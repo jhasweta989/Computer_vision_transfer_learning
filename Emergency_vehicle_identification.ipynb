{
  "nbformat": 4,
  "nbformat_minor": 0,
  "metadata": {
    "colab": {
      "name": "Untitled1.ipynb",
      "provenance": [],
      "collapsed_sections": [],
      "mount_file_id": "1AxievzVg24-11tjOwoH7t7hZjC6WEkB7",
      "authorship_tag": "ABX9TyMzPRer2XgMZxvkn3EkhDBq",
      "include_colab_link": true
    },
    "kernelspec": {
      "name": "python3",
      "display_name": "Python 3"
    },
    "accelerator": "GPU"
  },
  "cells": [
    {
      "cell_type": "markdown",
      "metadata": {
        "id": "view-in-github",
        "colab_type": "text"
      },
      "source": [
        "<a href=\"https://colab.research.google.com/github/jhasweta989/Computer_vision_transfer_learning/blob/main/Emergency_vehicle_identification.ipynb\" target=\"_parent\"><img src=\"https://colab.research.google.com/assets/colab-badge.svg\" alt=\"Open In Colab\"/></a>"
      ]
    },
    {
      "cell_type": "markdown",
      "metadata": {
        "id": "9IK1zrcuKQ83"
      },
      "source": [
        "Import dataset\n"
      ]
    },
    {
      "cell_type": "code",
      "metadata": {
        "id": "9GkUhaBJrMCD"
      },
      "source": [
        "import numpy as np         #linear algebra\n",
        "import pandas as pd        #read csv file\n",
        "from tqdm import tqdm      #iteration over image file"
      ],
      "execution_count": null,
      "outputs": []
    },
    {
      "cell_type": "code",
      "metadata": {
        "id": "AQz9rrCjrZDF"
      },
      "source": [
        "import matplotlib.pyplot as plt  #plot image \n",
        "%matplotlib inline"
      ],
      "execution_count": null,
      "outputs": []
    },
    {
      "cell_type": "code",
      "metadata": {
        "id": "4Z78rT1jr2mR"
      },
      "source": [
        "from skimage.io import imread  #read image\n",
        "from skimage.transform import resize   #resize image\n",
        "from sklearn.model_selection import train_test_split   #split dataset into train and validate set"
      ],
      "execution_count": null,
      "outputs": []
    },
    {
      "cell_type": "code",
      "metadata": {
        "id": "s7s_7CE1sXSU"
      },
      "source": [
        "data= pd.read_csv('/content/drive/My Drive/transfer learning/train.csv')  #read csv file"
      ],
      "execution_count": null,
      "outputs": []
    },
    {
      "cell_type": "markdown",
      "metadata": {
        "id": "XfqnlYYTNsCk"
      },
      "source": [
        "data['emergency_or_not]== 1 for emergency vehicle and 0 for non-emergency vehicle"
      ]
    },
    {
      "cell_type": "code",
      "metadata": {
        "id": "2nsrAtCluyDc",
        "outputId": "0de0d3e8-3d96-4eb0-e15b-091bff231f34",
        "colab": {
          "base_uri": "https://localhost:8080/",
          "height": 195
        }
      },
      "source": [
        "data.head()"
      ],
      "execution_count": null,
      "outputs": [
        {
          "output_type": "execute_result",
          "data": {
            "text/html": [
              "<div>\n",
              "<style scoped>\n",
              "    .dataframe tbody tr th:only-of-type {\n",
              "        vertical-align: middle;\n",
              "    }\n",
              "\n",
              "    .dataframe tbody tr th {\n",
              "        vertical-align: top;\n",
              "    }\n",
              "\n",
              "    .dataframe thead th {\n",
              "        text-align: right;\n",
              "    }\n",
              "</style>\n",
              "<table border=\"1\" class=\"dataframe\">\n",
              "  <thead>\n",
              "    <tr style=\"text-align: right;\">\n",
              "      <th></th>\n",
              "      <th>image_names</th>\n",
              "      <th>emergency_or_not</th>\n",
              "    </tr>\n",
              "  </thead>\n",
              "  <tbody>\n",
              "    <tr>\n",
              "      <th>0</th>\n",
              "      <td>1503.jpg</td>\n",
              "      <td>0</td>\n",
              "    </tr>\n",
              "    <tr>\n",
              "      <th>1</th>\n",
              "      <td>1420.jpg</td>\n",
              "      <td>0</td>\n",
              "    </tr>\n",
              "    <tr>\n",
              "      <th>2</th>\n",
              "      <td>1764.jpg</td>\n",
              "      <td>0</td>\n",
              "    </tr>\n",
              "    <tr>\n",
              "      <th>3</th>\n",
              "      <td>1356.jpg</td>\n",
              "      <td>0</td>\n",
              "    </tr>\n",
              "    <tr>\n",
              "      <th>4</th>\n",
              "      <td>1117.jpg</td>\n",
              "      <td>0</td>\n",
              "    </tr>\n",
              "  </tbody>\n",
              "</table>\n",
              "</div>"
            ],
            "text/plain": [
              "  image_names  emergency_or_not\n",
              "0    1503.jpg                 0\n",
              "1    1420.jpg                 0\n",
              "2    1764.jpg                 0\n",
              "3    1356.jpg                 0\n",
              "4    1117.jpg                 0"
            ]
          },
          "metadata": {
            "tags": []
          },
          "execution_count": 6
        }
      ]
    },
    {
      "cell_type": "markdown",
      "metadata": {
        "id": "bGZ6WhsoOBoS"
      },
      "source": [
        "dataset has 1646 images"
      ]
    },
    {
      "cell_type": "code",
      "metadata": {
        "id": "dgO4mqfDu2cN",
        "outputId": "099dc2c9-13e8-47e2-91af-28cdd382808e",
        "colab": {
          "base_uri": "https://localhost:8080/",
          "height": 34
        }
      },
      "source": [
        "data.shape"
      ],
      "execution_count": null,
      "outputs": [
        {
          "output_type": "execute_result",
          "data": {
            "text/plain": [
              "(1646, 2)"
            ]
          },
          "metadata": {
            "tags": []
          },
          "execution_count": 7
        }
      ]
    },
    {
      "cell_type": "markdown",
      "metadata": {
        "id": "vQrO7nDeOHE-"
      },
      "source": [
        "reduce dataset size to 950 images"
      ]
    },
    {
      "cell_type": "code",
      "metadata": {
        "id": "B0lE3U7EvGrR"
      },
      "source": [
        "data= data[:950]"
      ],
      "execution_count": null,
      "outputs": []
    },
    {
      "cell_type": "code",
      "metadata": {
        "id": "omd9taFmvPwp",
        "outputId": "5ebbfaa2-aa6b-424a-8b45-949e86201858",
        "colab": {
          "base_uri": "https://localhost:8080/",
          "height": 34
        }
      },
      "source": [
        "data.shape"
      ],
      "execution_count": null,
      "outputs": [
        {
          "output_type": "execute_result",
          "data": {
            "text/plain": [
              "(950, 2)"
            ]
          },
          "metadata": {
            "tags": []
          },
          "execution_count": 9
        }
      ]
    },
    {
      "cell_type": "markdown",
      "metadata": {
        "id": "-MWb1d7fOOE-"
      },
      "source": [
        "412 emergency vehicle and 538 non emergency"
      ]
    },
    {
      "cell_type": "code",
      "metadata": {
        "id": "JaXka8qkvR6p",
        "outputId": "bb97b888-2ea7-497f-ae7c-9d17f2fc889c",
        "colab": {
          "base_uri": "https://localhost:8080/",
          "height": 34
        }
      },
      "source": [
        "sum(data['emergency_or_not'])"
      ],
      "execution_count": null,
      "outputs": [
        {
          "output_type": "execute_result",
          "data": {
            "text/plain": [
              "412"
            ]
          },
          "metadata": {
            "tags": []
          },
          "execution_count": 10
        }
      ]
    },
    {
      "cell_type": "code",
      "metadata": {
        "id": "-xS5MeXrvYLk",
        "outputId": "1711b13f-c45a-4f9c-8fdc-e066bc107e4d",
        "colab": {
          "base_uri": "https://localhost:8080/",
          "height": 34
        }
      },
      "source": [
        "950-412"
      ],
      "execution_count": null,
      "outputs": [
        {
          "output_type": "execute_result",
          "data": {
            "text/plain": [
              "538"
            ]
          },
          "metadata": {
            "tags": []
          },
          "execution_count": 11
        }
      ]
    },
    {
      "cell_type": "markdown",
      "metadata": {
        "id": "VFEj3Uk9OYfK"
      },
      "source": [
        "display a image from the dataset"
      ]
    },
    {
      "cell_type": "code",
      "metadata": {
        "id": "I_m4MBUWxS1W"
      },
      "source": [
        "img= imread('/content/drive/My Drive/transfer learning/images/1.jpg')"
      ],
      "execution_count": null,
      "outputs": []
    },
    {
      "cell_type": "code",
      "metadata": {
        "id": "8iqk1ctmyC7j",
        "outputId": "9fbf243f-39d2-4690-901c-58c2482be47c",
        "colab": {
          "base_uri": "https://localhost:8080/",
          "height": 34
        }
      },
      "source": [
        "img.shape"
      ],
      "execution_count": null,
      "outputs": [
        {
          "output_type": "execute_result",
          "data": {
            "text/plain": [
              "(224, 224, 3)"
            ]
          },
          "metadata": {
            "tags": []
          },
          "execution_count": 13
        }
      ]
    },
    {
      "cell_type": "code",
      "metadata": {
        "id": "uVeLKbbhyC3Y",
        "outputId": "8e222081-51be-408d-af2b-0a47056709bd",
        "colab": {
          "base_uri": "https://localhost:8080/",
          "height": 286
        }
      },
      "source": [
        "plt.imshow(img)"
      ],
      "execution_count": null,
      "outputs": [
        {
          "output_type": "execute_result",
          "data": {
            "text/plain": [
              "<matplotlib.image.AxesImage at 0x7f4881bd8400>"
            ]
          },
          "metadata": {
            "tags": []
          },
          "execution_count": 14
        },
        {
          "output_type": "display_data",
          "data": {
            "image/png": "[encoded data removed]",
            "text/plain": [
              "<Figure size 432x288 with 1 Axes>"
            ]
          },
          "metadata": {
            "tags": [],
            "needs_background": "light"
          }
        }
      ]
    },
    {
      "cell_type": "markdown",
      "metadata": {
        "id": "MrY0TA7lOg-V"
      },
      "source": [
        "preparing dataset for training model"
      ]
    },
    {
      "cell_type": "code",
      "metadata": {
        "id": "H3vW_7t6voii",
        "outputId": "b7cefc3c-e05e-49e1-b110-cedd71f34d20",
        "colab": {
          "base_uri": "https://localhost:8080/"
        }
      },
      "source": [
        "train_img=[]\n",
        "for i_name in tqdm(data['image_names']):\n",
        "  path= '/content/drive/My Drive/transfer learning/images/'+ i_name\n",
        "  img= imread(path)\n",
        "  img= img/255\n",
        "  img= resize(img, output_shape=(224,224,3), mode='constant', anti_aliasing= True )\n",
        "  img= img.astype('float32')\n",
        "  train_img.append(img)\n"
      ],
      "execution_count": null,
      "outputs": [
        {
          "output_type": "stream",
          "text": [
            "100%|██████████| 950/950 [05:39<00:00,  2.80it/s]\n"
          ],
          "name": "stderr"
        }
      ]
    },
    {
      "cell_type": "code",
      "metadata": {
        "id": "DLbPPM1zz4yp"
      },
      "source": [
        "train_x= np.array(train_img)"
      ],
      "execution_count": null,
      "outputs": []
    },
    {
      "cell_type": "code",
      "metadata": {
        "id": "LH1F93Ud1JKN",
        "outputId": "188dffdc-4a35-4505-c79d-999c46b7542d",
        "colab": {
          "base_uri": "https://localhost:8080/",
          "height": 34
        }
      },
      "source": [
        "train_x.shape"
      ],
      "execution_count": null,
      "outputs": [
        {
          "output_type": "execute_result",
          "data": {
            "text/plain": [
              "(950, 224, 224, 3)"
            ]
          },
          "metadata": {
            "tags": []
          },
          "execution_count": 17
        }
      ]
    },
    {
      "cell_type": "code",
      "metadata": {
        "id": "IAIwgJW0Ufm4"
      },
      "source": [
        "train_y= data['emergency_or_not'].values"
      ],
      "execution_count": null,
      "outputs": []
    },
    {
      "cell_type": "code",
      "metadata": {
        "id": "G7D-OM8TZc4L",
        "outputId": "951edf2d-d3bf-43e5-a98d-f6124e0be346",
        "colab": {
          "base_uri": "https://localhost:8080/",
          "height": 34
        }
      },
      "source": [
        "train_y.shape"
      ],
      "execution_count": null,
      "outputs": [
        {
          "output_type": "execute_result",
          "data": {
            "text/plain": [
              "(950,)"
            ]
          },
          "metadata": {
            "tags": []
          },
          "execution_count": 19
        }
      ]
    },
    {
      "cell_type": "code",
      "metadata": {
        "id": "y-czzZ6HqRzb"
      },
      "source": [
        "# converting the target into torch format\n",
        "train_y = train_y.astype(int)"
      ],
      "execution_count": null,
      "outputs": []
    },
    {
      "cell_type": "markdown",
      "metadata": {
        "id": "F7vk0UUkOpR3"
      },
      "source": [
        "split dataset into training and validation set"
      ]
    },
    {
      "cell_type": "code",
      "metadata": {
        "id": "Nb3gbtRTZfui"
      },
      "source": [
        "train_x, val_x, train_y, val_y = train_test_split(train_x, train_y, test_size = 0.1, random_state = 13, stratify=train_y)\n",
        "(train_x.shape, train_y.shape), (val_x.shape, val_y.shape)"
      ],
      "execution_count": null,
      "outputs": []
    },
    {
      "cell_type": "markdown",
      "metadata": {
        "id": "92fZj5m2PK0S"
      },
      "source": [
        "Import tensorflow and keras library for model creation"
      ]
    },
    {
      "cell_type": "code",
      "metadata": {
        "id": "EQc6miwpZwMk"
      },
      "source": [
        "import tensorflow as tf\n",
        "from tensorflow import keras\n",
        "from tensorflow.keras import layers\n",
        "from keras.layers import GlobalAveragePooling2D, Dense, Dropout, Flatten, Input, Conv2D, multiply, LocallyConnected2D, Lambda, AvgPool2D\n",
        "from keras.models import Model\n",
        "from keras.models import Sequential\n",
        "from keras.optimizers import Adam\n",
        "from keras.callbacks import ModelCheckpoint"
      ],
      "execution_count": null,
      "outputs": []
    },
    {
      "cell_type": "markdown",
      "metadata": {
        "id": "uyMWH4_2PY4V"
      },
      "source": [
        "Import Xception pre-trained model"
      ]
    },
    {
      "cell_type": "code",
      "metadata": {
        "id": "v2VBT9sOLBdN",
        "outputId": "174c84dc-e726-4075-93c7-3073eca84b87",
        "colab": {
          "base_uri": "https://localhost:8080/",
          "height": 52
        }
      },
      "source": [
        "model= keras.applications.Xception(input_shape=[224,224, 3], include_top=False, weights='imagenet')\n",
        "model.trainable = False"
      ],
      "execution_count": null,
      "outputs": [
        {
          "output_type": "stream",
          "text": [
            "Downloading data from https://storage.googleapis.com/tensorflow/keras-applications/xception/xception_weights_tf_dim_ordering_tf_kernels_notop.h5\n",
            "83689472/83683744 [==============================] - 0s 0us/step\n"
          ],
          "name": "stdout"
        }
      ]
    },
    {
      "cell_type": "code",
      "metadata": {
        "id": "4uSBtGROLMth",
        "outputId": "e894f377-0b17-4830-a0d1-0c24d32ee2ec",
        "colab": {
          "base_uri": "https://localhost:8080/",
          "height": 1000
        }
      },
      "source": [
        "model.summary()"
      ],
      "execution_count": null,
      "outputs": [
        {
          "output_type": "stream",
          "text": [
            "Model: \"xception\"\n",
            "__________________________________________________________________________________________________\n",
            "Layer (type)                    Output Shape         Param #     Connected to                     \n",
            "==================================================================================================\n",
            "input_1 (InputLayer)            [(None, 224, 224, 3) 0                                            \n",
            "__________________________________________________________________________________________________\n",
            "block1_conv1 (Conv2D)           (None, 111, 111, 32) 864         input_1[0][0]                    \n",
            "__________________________________________________________________________________________________\n",
            "block1_conv1_bn (BatchNormaliza (None, 111, 111, 32) 128         block1_conv1[0][0]               \n",
            "__________________________________________________________________________________________________\n",
            "block1_conv1_act (Activation)   (None, 111, 111, 32) 0           block1_conv1_bn[0][0]            \n",
            "__________________________________________________________________________________________________\n",
            "block1_conv2 (Conv2D)           (None, 109, 109, 64) 18432       block1_conv1_act[0][0]           \n",
            "__________________________________________________________________________________________________\n",
            "block1_conv2_bn (BatchNormaliza (None, 109, 109, 64) 256         block1_conv2[0][0]               \n",
            "__________________________________________________________________________________________________\n",
            "block1_conv2_act (Activation)   (None, 109, 109, 64) 0           block1_conv2_bn[0][0]            \n",
            "__________________________________________________________________________________________________\n",
            "block2_sepconv1 (SeparableConv2 (None, 109, 109, 128 8768        block1_conv2_act[0][0]           \n",
            "__________________________________________________________________________________________________\n",
            "block2_sepconv1_bn (BatchNormal (None, 109, 109, 128 512         block2_sepconv1[0][0]            \n",
            "__________________________________________________________________________________________________\n",
            "block2_sepconv2_act (Activation (None, 109, 109, 128 0           block2_sepconv1_bn[0][0]         \n",
            "__________________________________________________________________________________________________\n",
            "block2_sepconv2 (SeparableConv2 (None, 109, 109, 128 17536       block2_sepconv2_act[0][0]        \n",
            "__________________________________________________________________________________________________\n",
            "block2_sepconv2_bn (BatchNormal (None, 109, 109, 128 512         block2_sepconv2[0][0]            \n",
            "__________________________________________________________________________________________________\n",
            "conv2d (Conv2D)                 (None, 55, 55, 128)  8192        block1_conv2_act[0][0]           \n",
            "__________________________________________________________________________________________________\n",
            "block2_pool (MaxPooling2D)      (None, 55, 55, 128)  0           block2_sepconv2_bn[0][0]         \n",
            "__________________________________________________________________________________________________\n",
            "batch_normalization (BatchNorma (None, 55, 55, 128)  512         conv2d[0][0]                     \n",
            "__________________________________________________________________________________________________\n",
            "add (Add)                       (None, 55, 55, 128)  0           block2_pool[0][0]                \n",
            "                                                                 batch_normalization[0][0]        \n",
            "__________________________________________________________________________________________________\n",
            "block3_sepconv1_act (Activation (None, 55, 55, 128)  0           add[0][0]                        \n",
            "__________________________________________________________________________________________________\n",
            "block3_sepconv1 (SeparableConv2 (None, 55, 55, 256)  33920       block3_sepconv1_act[0][0]        \n",
            "__________________________________________________________________________________________________\n",
            "block3_sepconv1_bn (BatchNormal (None, 55, 55, 256)  1024        block3_sepconv1[0][0]            \n",
            "__________________________________________________________________________________________________\n",
            "block3_sepconv2_act (Activation (None, 55, 55, 256)  0           block3_sepconv1_bn[0][0]         \n",
            "__________________________________________________________________________________________________\n",
            "block3_sepconv2 (SeparableConv2 (None, 55, 55, 256)  67840       block3_sepconv2_act[0][0]        \n",
            "__________________________________________________________________________________________________\n",
            "block3_sepconv2_bn (BatchNormal (None, 55, 55, 256)  1024        block3_sepconv2[0][0]            \n",
            "__________________________________________________________________________________________________\n",
            "conv2d_1 (Conv2D)               (None, 28, 28, 256)  32768       add[0][0]                        \n",
            "__________________________________________________________________________________________________\n",
            "block3_pool (MaxPooling2D)      (None, 28, 28, 256)  0           block3_sepconv2_bn[0][0]         \n",
            "__________________________________________________________________________________________________\n",
            "batch_normalization_1 (BatchNor (None, 28, 28, 256)  1024        conv2d_1[0][0]                   \n",
            "__________________________________________________________________________________________________\n",
            "add_1 (Add)                     (None, 28, 28, 256)  0           block3_pool[0][0]                \n",
            "                                                                 batch_normalization_1[0][0]      \n",
            "__________________________________________________________________________________________________\n",
            "block4_sepconv1_act (Activation (None, 28, 28, 256)  0           add_1[0][0]                      \n",
            "__________________________________________________________________________________________________\n",
            "block4_sepconv1 (SeparableConv2 (None, 28, 28, 728)  188672      block4_sepconv1_act[0][0]        \n",
            "__________________________________________________________________________________________________\n",
            "block4_sepconv1_bn (BatchNormal (None, 28, 28, 728)  2912        block4_sepconv1[0][0]            \n",
            "__________________________________________________________________________________________________\n",
            "block4_sepconv2_act (Activation (None, 28, 28, 728)  0           block4_sepconv1_bn[0][0]         \n",
            "__________________________________________________________________________________________________\n",
            "block4_sepconv2 (SeparableConv2 (None, 28, 28, 728)  536536      block4_sepconv2_act[0][0]        \n",
            "__________________________________________________________________________________________________\n",
            "block4_sepconv2_bn (BatchNormal (None, 28, 28, 728)  2912        block4_sepconv2[0][0]            \n",
            "__________________________________________________________________________________________________\n",
            "conv2d_2 (Conv2D)               (None, 14, 14, 728)  186368      add_1[0][0]                      \n",
            "__________________________________________________________________________________________________\n",
            "block4_pool (MaxPooling2D)      (None, 14, 14, 728)  0           block4_sepconv2_bn[0][0]         \n",
            "__________________________________________________________________________________________________\n",
            "batch_normalization_2 (BatchNor (None, 14, 14, 728)  2912        conv2d_2[0][0]                   \n",
            "__________________________________________________________________________________________________\n",
            "add_2 (Add)                     (None, 14, 14, 728)  0           block4_pool[0][0]                \n",
            "                                                                 batch_normalization_2[0][0]      \n",
            "__________________________________________________________________________________________________\n",
            "block5_sepconv1_act (Activation (None, 14, 14, 728)  0           add_2[0][0]                      \n",
            "__________________________________________________________________________________________________\n",
            "block5_sepconv1 (SeparableConv2 (None, 14, 14, 728)  536536      block5_sepconv1_act[0][0]        \n",
            "__________________________________________________________________________________________________\n",
            "block5_sepconv1_bn (BatchNormal (None, 14, 14, 728)  2912        block5_sepconv1[0][0]            \n",
            "__________________________________________________________________________________________________\n",
            "block5_sepconv2_act (Activation (None, 14, 14, 728)  0           block5_sepconv1_bn[0][0]         \n",
            "__________________________________________________________________________________________________\n",
            "block5_sepconv2 (SeparableConv2 (None, 14, 14, 728)  536536      block5_sepconv2_act[0][0]        \n",
            "__________________________________________________________________________________________________\n",
            "block5_sepconv2_bn (BatchNormal (None, 14, 14, 728)  2912        block5_sepconv2[0][0]            \n",
            "__________________________________________________________________________________________________\n",
            "block5_sepconv3_act (Activation (None, 14, 14, 728)  0           block5_sepconv2_bn[0][0]         \n",
            "__________________________________________________________________________________________________\n",
            "block5_sepconv3 (SeparableConv2 (None, 14, 14, 728)  536536      block5_sepconv3_act[0][0]        \n",
            "__________________________________________________________________________________________________\n",
            "block5_sepconv3_bn (BatchNormal (None, 14, 14, 728)  2912        block5_sepconv3[0][0]            \n",
            "__________________________________________________________________________________________________\n",
            "add_3 (Add)                     (None, 14, 14, 728)  0           block5_sepconv3_bn[0][0]         \n",
            "                                                                 add_2[0][0]                      \n",
            "__________________________________________________________________________________________________\n",
            "block6_sepconv1_act (Activation (None, 14, 14, 728)  0           add_3[0][0]                      \n",
            "__________________________________________________________________________________________________\n",
            "block6_sepconv1 (SeparableConv2 (None, 14, 14, 728)  536536      block6_sepconv1_act[0][0]        \n",
            "__________________________________________________________________________________________________\n",
            "block6_sepconv1_bn (BatchNormal (None, 14, 14, 728)  2912        block6_sepconv1[0][0]            \n",
            "__________________________________________________________________________________________________\n",
            "block6_sepconv2_act (Activation (None, 14, 14, 728)  0           block6_sepconv1_bn[0][0]         \n",
            "__________________________________________________________________________________________________\n",
            "block6_sepconv2 (SeparableConv2 (None, 14, 14, 728)  536536      block6_sepconv2_act[0][0]        \n",
            "__________________________________________________________________________________________________\n",
            "block6_sepconv2_bn (BatchNormal (None, 14, 14, 728)  2912        block6_sepconv2[0][0]            \n",
            "__________________________________________________________________________________________________\n",
            "block6_sepconv3_act (Activation (None, 14, 14, 728)  0           block6_sepconv2_bn[0][0]         \n",
            "__________________________________________________________________________________________________\n",
            "block6_sepconv3 (SeparableConv2 (None, 14, 14, 728)  536536      block6_sepconv3_act[0][0]        \n",
            "__________________________________________________________________________________________________\n",
            "block6_sepconv3_bn (BatchNormal (None, 14, 14, 728)  2912        block6_sepconv3[0][0]            \n",
            "__________________________________________________________________________________________________\n",
            "add_4 (Add)                     (None, 14, 14, 728)  0           block6_sepconv3_bn[0][0]         \n",
            "                                                                 add_3[0][0]                      \n",
            "__________________________________________________________________________________________________\n",
            "block7_sepconv1_act (Activation (None, 14, 14, 728)  0           add_4[0][0]                      \n",
            "__________________________________________________________________________________________________\n",
            "block7_sepconv1 (SeparableConv2 (None, 14, 14, 728)  536536      block7_sepconv1_act[0][0]        \n",
            "__________________________________________________________________________________________________\n",
            "block7_sepconv1_bn (BatchNormal (None, 14, 14, 728)  2912        block7_sepconv1[0][0]            \n",
            "__________________________________________________________________________________________________\n",
            "block7_sepconv2_act (Activation (None, 14, 14, 728)  0           block7_sepconv1_bn[0][0]         \n",
            "__________________________________________________________________________________________________\n",
            "block7_sepconv2 (SeparableConv2 (None, 14, 14, 728)  536536      block7_sepconv2_act[0][0]        \n",
            "__________________________________________________________________________________________________\n",
            "block7_sepconv2_bn (BatchNormal (None, 14, 14, 728)  2912        block7_sepconv2[0][0]            \n",
            "__________________________________________________________________________________________________\n",
            "block7_sepconv3_act (Activation (None, 14, 14, 728)  0           block7_sepconv2_bn[0][0]         \n",
            "__________________________________________________________________________________________________\n",
            "block7_sepconv3 (SeparableConv2 (None, 14, 14, 728)  536536      block7_sepconv3_act[0][0]        \n",
            "__________________________________________________________________________________________________\n",
            "block7_sepconv3_bn (BatchNormal (None, 14, 14, 728)  2912        block7_sepconv3[0][0]            \n",
            "__________________________________________________________________________________________________\n",
            "add_5 (Add)                     (None, 14, 14, 728)  0           block7_sepconv3_bn[0][0]         \n",
            "                                                                 add_4[0][0]                      \n",
            "__________________________________________________________________________________________________\n",
            "block8_sepconv1_act (Activation (None, 14, 14, 728)  0           add_5[0][0]                      \n",
            "__________________________________________________________________________________________________\n",
            "block8_sepconv1 (SeparableConv2 (None, 14, 14, 728)  536536      block8_sepconv1_act[0][0]        \n",
            "__________________________________________________________________________________________________\n",
            "block8_sepconv1_bn (BatchNormal (None, 14, 14, 728)  2912        block8_sepconv1[0][0]            \n",
            "__________________________________________________________________________________________________\n",
            "block8_sepconv2_act (Activation (None, 14, 14, 728)  0           block8_sepconv1_bn[0][0]         \n",
            "__________________________________________________________________________________________________\n",
            "block8_sepconv2 (SeparableConv2 (None, 14, 14, 728)  536536      block8_sepconv2_act[0][0]        \n",
            "__________________________________________________________________________________________________\n",
            "block8_sepconv2_bn (BatchNormal (None, 14, 14, 728)  2912        block8_sepconv2[0][0]            \n",
            "__________________________________________________________________________________________________\n",
            "block8_sepconv3_act (Activation (None, 14, 14, 728)  0           block8_sepconv2_bn[0][0]         \n",
            "__________________________________________________________________________________________________\n",
            "block8_sepconv3 (SeparableConv2 (None, 14, 14, 728)  536536      block8_sepconv3_act[0][0]        \n",
            "__________________________________________________________________________________________________\n",
            "block8_sepconv3_bn (BatchNormal (None, 14, 14, 728)  2912        block8_sepconv3[0][0]            \n",
            "__________________________________________________________________________________________________\n",
            "add_6 (Add)                     (None, 14, 14, 728)  0           block8_sepconv3_bn[0][0]         \n",
            "                                                                 add_5[0][0]                      \n",
            "__________________________________________________________________________________________________\n",
            "block9_sepconv1_act (Activation (None, 14, 14, 728)  0           add_6[0][0]                      \n",
            "__________________________________________________________________________________________________\n",
            "block9_sepconv1 (SeparableConv2 (None, 14, 14, 728)  536536      block9_sepconv1_act[0][0]        \n",
            "__________________________________________________________________________________________________\n",
            "block9_sepconv1_bn (BatchNormal (None, 14, 14, 728)  2912        block9_sepconv1[0][0]            \n",
            "__________________________________________________________________________________________________\n",
            "block9_sepconv2_act (Activation (None, 14, 14, 728)  0           block9_sepconv1_bn[0][0]         \n",
            "__________________________________________________________________________________________________\n",
            "block9_sepconv2 (SeparableConv2 (None, 14, 14, 728)  536536      block9_sepconv2_act[0][0]        \n",
            "__________________________________________________________________________________________________\n",
            "block9_sepconv2_bn (BatchNormal (None, 14, 14, 728)  2912        block9_sepconv2[0][0]            \n",
            "__________________________________________________________________________________________________\n",
            "block9_sepconv3_act (Activation (None, 14, 14, 728)  0           block9_sepconv2_bn[0][0]         \n",
            "__________________________________________________________________________________________________\n",
            "block9_sepconv3 (SeparableConv2 (None, 14, 14, 728)  536536      block9_sepconv3_act[0][0]        \n",
            "__________________________________________________________________________________________________\n",
            "block9_sepconv3_bn (BatchNormal (None, 14, 14, 728)  2912        block9_sepconv3[0][0]            \n",
            "__________________________________________________________________________________________________\n",
            "add_7 (Add)                     (None, 14, 14, 728)  0           block9_sepconv3_bn[0][0]         \n",
            "                                                                 add_6[0][0]                      \n",
            "__________________________________________________________________________________________________\n",
            "block10_sepconv1_act (Activatio (None, 14, 14, 728)  0           add_7[0][0]                      \n",
            "__________________________________________________________________________________________________\n",
            "block10_sepconv1 (SeparableConv (None, 14, 14, 728)  536536      block10_sepconv1_act[0][0]       \n",
            "__________________________________________________________________________________________________\n",
            "block10_sepconv1_bn (BatchNorma (None, 14, 14, 728)  2912        block10_sepconv1[0][0]           \n",
            "__________________________________________________________________________________________________\n",
            "block10_sepconv2_act (Activatio (None, 14, 14, 728)  0           block10_sepconv1_bn[0][0]        \n",
            "__________________________________________________________________________________________________\n",
            "block10_sepconv2 (SeparableConv (None, 14, 14, 728)  536536      block10_sepconv2_act[0][0]       \n",
            "__________________________________________________________________________________________________\n",
            "block10_sepconv2_bn (BatchNorma (None, 14, 14, 728)  2912        block10_sepconv2[0][0]           \n",
            "__________________________________________________________________________________________________\n",
            "block10_sepconv3_act (Activatio (None, 14, 14, 728)  0           block10_sepconv2_bn[0][0]        \n",
            "__________________________________________________________________________________________________\n",
            "block10_sepconv3 (SeparableConv (None, 14, 14, 728)  536536      block10_sepconv3_act[0][0]       \n",
            "__________________________________________________________________________________________________\n",
            "block10_sepconv3_bn (BatchNorma (None, 14, 14, 728)  2912        block10_sepconv3[0][0]           \n",
            "__________________________________________________________________________________________________\n",
            "add_8 (Add)                     (None, 14, 14, 728)  0           block10_sepconv3_bn[0][0]        \n",
            "                                                                 add_7[0][0]                      \n",
            "__________________________________________________________________________________________________\n",
            "block11_sepconv1_act (Activatio (None, 14, 14, 728)  0           add_8[0][0]                      \n",
            "__________________________________________________________________________________________________\n",
            "block11_sepconv1 (SeparableConv (None, 14, 14, 728)  536536      block11_sepconv1_act[0][0]       \n",
            "__________________________________________________________________________________________________\n",
            "block11_sepconv1_bn (BatchNorma (None, 14, 14, 728)  2912        block11_sepconv1[0][0]           \n",
            "__________________________________________________________________________________________________\n",
            "block11_sepconv2_act (Activatio (None, 14, 14, 728)  0           block11_sepconv1_bn[0][0]        \n",
            "__________________________________________________________________________________________________\n",
            "block11_sepconv2 (SeparableConv (None, 14, 14, 728)  536536      block11_sepconv2_act[0][0]       \n",
            "__________________________________________________________________________________________________\n",
            "block11_sepconv2_bn (BatchNorma (None, 14, 14, 728)  2912        block11_sepconv2[0][0]           \n",
            "__________________________________________________________________________________________________\n",
            "block11_sepconv3_act (Activatio (None, 14, 14, 728)  0           block11_sepconv2_bn[0][0]        \n",
            "__________________________________________________________________________________________________\n",
            "block11_sepconv3 (SeparableConv (None, 14, 14, 728)  536536      block11_sepconv3_act[0][0]       \n",
            "__________________________________________________________________________________________________\n",
            "block11_sepconv3_bn (BatchNorma (None, 14, 14, 728)  2912        block11_sepconv3[0][0]           \n",
            "__________________________________________________________________________________________________\n",
            "add_9 (Add)                     (None, 14, 14, 728)  0           block11_sepconv3_bn[0][0]        \n",
            "                                                                 add_8[0][0]                      \n",
            "__________________________________________________________________________________________________\n",
            "block12_sepconv1_act (Activatio (None, 14, 14, 728)  0           add_9[0][0]                      \n",
            "__________________________________________________________________________________________________\n",
            "block12_sepconv1 (SeparableConv (None, 14, 14, 728)  536536      block12_sepconv1_act[0][0]       \n",
            "__________________________________________________________________________________________________\n",
            "block12_sepconv1_bn (BatchNorma (None, 14, 14, 728)  2912        block12_sepconv1[0][0]           \n",
            "__________________________________________________________________________________________________\n",
            "block12_sepconv2_act (Activatio (None, 14, 14, 728)  0           block12_sepconv1_bn[0][0]        \n",
            "__________________________________________________________________________________________________\n",
            "block12_sepconv2 (SeparableConv (None, 14, 14, 728)  536536      block12_sepconv2_act[0][0]       \n",
            "__________________________________________________________________________________________________\n",
            "block12_sepconv2_bn (BatchNorma (None, 14, 14, 728)  2912        block12_sepconv2[0][0]           \n",
            "__________________________________________________________________________________________________\n",
            "block12_sepconv3_act (Activatio (None, 14, 14, 728)  0           block12_sepconv2_bn[0][0]        \n",
            "__________________________________________________________________________________________________\n",
            "block12_sepconv3 (SeparableConv (None, 14, 14, 728)  536536      block12_sepconv3_act[0][0]       \n",
            "__________________________________________________________________________________________________\n",
            "block12_sepconv3_bn (BatchNorma (None, 14, 14, 728)  2912        block12_sepconv3[0][0]           \n",
            "__________________________________________________________________________________________________\n",
            "add_10 (Add)                    (None, 14, 14, 728)  0           block12_sepconv3_bn[0][0]        \n",
            "                                                                 add_9[0][0]                      \n",
            "__________________________________________________________________________________________________\n",
            "block13_sepconv1_act (Activatio (None, 14, 14, 728)  0           add_10[0][0]                     \n",
            "__________________________________________________________________________________________________\n",
            "block13_sepconv1 (SeparableConv (None, 14, 14, 728)  536536      block13_sepconv1_act[0][0]       \n",
            "__________________________________________________________________________________________________\n",
            "block13_sepconv1_bn (BatchNorma (None, 14, 14, 728)  2912        block13_sepconv1[0][0]           \n",
            "__________________________________________________________________________________________________\n",
            "block13_sepconv2_act (Activatio (None, 14, 14, 728)  0           block13_sepconv1_bn[0][0]        \n",
            "__________________________________________________________________________________________________\n",
            "block13_sepconv2 (SeparableConv (None, 14, 14, 1024) 752024      block13_sepconv2_act[0][0]       \n",
            "__________________________________________________________________________________________________\n",
            "block13_sepconv2_bn (BatchNorma (None, 14, 14, 1024) 4096        block13_sepconv2[0][0]           \n",
            "__________________________________________________________________________________________________\n",
            "conv2d_3 (Conv2D)               (None, 7, 7, 1024)   745472      add_10[0][0]                     \n",
            "__________________________________________________________________________________________________\n",
            "block13_pool (MaxPooling2D)     (None, 7, 7, 1024)   0           block13_sepconv2_bn[0][0]        \n",
            "__________________________________________________________________________________________________\n",
            "batch_normalization_3 (BatchNor (None, 7, 7, 1024)   4096        conv2d_3[0][0]                   \n",
            "__________________________________________________________________________________________________\n",
            "add_11 (Add)                    (None, 7, 7, 1024)   0           block13_pool[0][0]               \n",
            "                                                                 batch_normalization_3[0][0]      \n",
            "__________________________________________________________________________________________________\n",
            "block14_sepconv1 (SeparableConv (None, 7, 7, 1536)   1582080     add_11[0][0]                     \n",
            "__________________________________________________________________________________________________\n",
            "block14_sepconv1_bn (BatchNorma (None, 7, 7, 1536)   6144        block14_sepconv1[0][0]           \n",
            "__________________________________________________________________________________________________\n",
            "block14_sepconv1_act (Activatio (None, 7, 7, 1536)   0           block14_sepconv1_bn[0][0]        \n",
            "__________________________________________________________________________________________________\n",
            "block14_sepconv2 (SeparableConv (None, 7, 7, 2048)   3159552     block14_sepconv1_act[0][0]       \n",
            "__________________________________________________________________________________________________\n",
            "block14_sepconv2_bn (BatchNorma (None, 7, 7, 2048)   8192        block14_sepconv2[0][0]           \n",
            "__________________________________________________________________________________________________\n",
            "block14_sepconv2_act (Activatio (None, 7, 7, 2048)   0           block14_sepconv2_bn[0][0]        \n",
            "==================================================================================================\n",
            "Total params: 20,861,480\n",
            "Trainable params: 0\n",
            "Non-trainable params: 20,861,480\n",
            "__________________________________________________________________________________________________\n"
          ],
          "name": "stdout"
        }
      ]
    },
    {
      "cell_type": "markdown",
      "metadata": {
        "id": "tkhOd9y8PqTW"
      },
      "source": [
        "Modify pre-trained model according to our problem"
      ]
    },
    {
      "cell_type": "code",
      "metadata": {
        "id": "5G5baSczpHQN",
        "outputId": "b251cbb9-1bb5-4289-e150-adaa63bbc0df",
        "colab": {
          "base_uri": "https://localhost:8080/",
          "height": 1000
        }
      },
      "source": [
        "x = model.output\n",
        "x = keras.layers.Dropout(0.25)(x)\n",
        "x = keras.layers.GlobalAveragePooling2D()(x)\n",
        "# let's add a fully-connected layer\n",
        "x = Dropout(0.5)(x)\n",
        "# and a sofymax/logistic layer -- we have 6 classes\n",
        "x = Dense(16, activation='sigmoid')(x)\n",
        "predictions = Dense(1, activation='sigmoid')(x)\n",
        "\n",
        "# this is the model we will train\n",
        "new_model = Model(inputs=model.input, outputs=predictions)\n",
        "\n",
        "new_model.summary()"
      ],
      "execution_count": null,
      "outputs": [
        {
          "output_type": "stream",
          "text": [
            "Model: \"functional_3\"\n",
            "__________________________________________________________________________________________________\n",
            "Layer (type)                    Output Shape         Param #     Connected to                     \n",
            "==================================================================================================\n",
            "input_1 (InputLayer)            [(None, 224, 224, 3) 0                                            \n",
            "__________________________________________________________________________________________________\n",
            "block1_conv1 (Conv2D)           (None, 111, 111, 32) 864         input_1[0][0]                    \n",
            "__________________________________________________________________________________________________\n",
            "block1_conv1_bn (BatchNormaliza (None, 111, 111, 32) 128         block1_conv1[0][0]               \n",
            "__________________________________________________________________________________________________\n",
            "block1_conv1_act (Activation)   (None, 111, 111, 32) 0           block1_conv1_bn[0][0]            \n",
            "__________________________________________________________________________________________________\n",
            "block1_conv2 (Conv2D)           (None, 109, 109, 64) 18432       block1_conv1_act[0][0]           \n",
            "__________________________________________________________________________________________________\n",
            "block1_conv2_bn (BatchNormaliza (None, 109, 109, 64) 256         block1_conv2[0][0]               \n",
            "__________________________________________________________________________________________________\n",
            "block1_conv2_act (Activation)   (None, 109, 109, 64) 0           block1_conv2_bn[0][0]            \n",
            "__________________________________________________________________________________________________\n",
            "block2_sepconv1 (SeparableConv2 (None, 109, 109, 128 8768        block1_conv2_act[0][0]           \n",
            "__________________________________________________________________________________________________\n",
            "block2_sepconv1_bn (BatchNormal (None, 109, 109, 128 512         block2_sepconv1[0][0]            \n",
            "__________________________________________________________________________________________________\n",
            "block2_sepconv2_act (Activation (None, 109, 109, 128 0           block2_sepconv1_bn[0][0]         \n",
            "__________________________________________________________________________________________________\n",
            "block2_sepconv2 (SeparableConv2 (None, 109, 109, 128 17536       block2_sepconv2_act[0][0]        \n",
            "__________________________________________________________________________________________________\n",
            "block2_sepconv2_bn (BatchNormal (None, 109, 109, 128 512         block2_sepconv2[0][0]            \n",
            "__________________________________________________________________________________________________\n",
            "conv2d (Conv2D)                 (None, 55, 55, 128)  8192        block1_conv2_act[0][0]           \n",
            "__________________________________________________________________________________________________\n",
            "block2_pool (MaxPooling2D)      (None, 55, 55, 128)  0           block2_sepconv2_bn[0][0]         \n",
            "__________________________________________________________________________________________________\n",
            "batch_normalization (BatchNorma (None, 55, 55, 128)  512         conv2d[0][0]                     \n",
            "__________________________________________________________________________________________________\n",
            "add (Add)                       (None, 55, 55, 128)  0           block2_pool[0][0]                \n",
            "                                                                 batch_normalization[0][0]        \n",
            "__________________________________________________________________________________________________\n",
            "block3_sepconv1_act (Activation (None, 55, 55, 128)  0           add[0][0]                        \n",
            "__________________________________________________________________________________________________\n",
            "block3_sepconv1 (SeparableConv2 (None, 55, 55, 256)  33920       block3_sepconv1_act[0][0]        \n",
            "__________________________________________________________________________________________________\n",
            "block3_sepconv1_bn (BatchNormal (None, 55, 55, 256)  1024        block3_sepconv1[0][0]            \n",
            "__________________________________________________________________________________________________\n",
            "block3_sepconv2_act (Activation (None, 55, 55, 256)  0           block3_sepconv1_bn[0][0]         \n",
            "__________________________________________________________________________________________________\n",
            "block3_sepconv2 (SeparableConv2 (None, 55, 55, 256)  67840       block3_sepconv2_act[0][0]        \n",
            "__________________________________________________________________________________________________\n",
            "block3_sepconv2_bn (BatchNormal (None, 55, 55, 256)  1024        block3_sepconv2[0][0]            \n",
            "__________________________________________________________________________________________________\n",
            "conv2d_1 (Conv2D)               (None, 28, 28, 256)  32768       add[0][0]                        \n",
            "__________________________________________________________________________________________________\n",
            "block3_pool (MaxPooling2D)      (None, 28, 28, 256)  0           block3_sepconv2_bn[0][0]         \n",
            "__________________________________________________________________________________________________\n",
            "batch_normalization_1 (BatchNor (None, 28, 28, 256)  1024        conv2d_1[0][0]                   \n",
            "__________________________________________________________________________________________________\n",
            "add_1 (Add)                     (None, 28, 28, 256)  0           block3_pool[0][0]                \n",
            "                                                                 batch_normalization_1[0][0]      \n",
            "__________________________________________________________________________________________________\n",
            "block4_sepconv1_act (Activation (None, 28, 28, 256)  0           add_1[0][0]                      \n",
            "__________________________________________________________________________________________________\n",
            "block4_sepconv1 (SeparableConv2 (None, 28, 28, 728)  188672      block4_sepconv1_act[0][0]        \n",
            "__________________________________________________________________________________________________\n",
            "block4_sepconv1_bn (BatchNormal (None, 28, 28, 728)  2912        block4_sepconv1[0][0]            \n",
            "__________________________________________________________________________________________________\n",
            "block4_sepconv2_act (Activation (None, 28, 28, 728)  0           block4_sepconv1_bn[0][0]         \n",
            "__________________________________________________________________________________________________\n",
            "block4_sepconv2 (SeparableConv2 (None, 28, 28, 728)  536536      block4_sepconv2_act[0][0]        \n",
            "__________________________________________________________________________________________________\n",
            "block4_sepconv2_bn (BatchNormal (None, 28, 28, 728)  2912        block4_sepconv2[0][0]            \n",
            "__________________________________________________________________________________________________\n",
            "conv2d_2 (Conv2D)               (None, 14, 14, 728)  186368      add_1[0][0]                      \n",
            "__________________________________________________________________________________________________\n",
            "block4_pool (MaxPooling2D)      (None, 14, 14, 728)  0           block4_sepconv2_bn[0][0]         \n",
            "__________________________________________________________________________________________________\n",
            "batch_normalization_2 (BatchNor (None, 14, 14, 728)  2912        conv2d_2[0][0]                   \n",
            "__________________________________________________________________________________________________\n",
            "add_2 (Add)                     (None, 14, 14, 728)  0           block4_pool[0][0]                \n",
            "                                                                 batch_normalization_2[0][0]      \n",
            "__________________________________________________________________________________________________\n",
            "block5_sepconv1_act (Activation (None, 14, 14, 728)  0           add_2[0][0]                      \n",
            "__________________________________________________________________________________________________\n",
            "block5_sepconv1 (SeparableConv2 (None, 14, 14, 728)  536536      block5_sepconv1_act[0][0]        \n",
            "__________________________________________________________________________________________________\n",
            "block5_sepconv1_bn (BatchNormal (None, 14, 14, 728)  2912        block5_sepconv1[0][0]            \n",
            "__________________________________________________________________________________________________\n",
            "block5_sepconv2_act (Activation (None, 14, 14, 728)  0           block5_sepconv1_bn[0][0]         \n",
            "__________________________________________________________________________________________________\n",
            "block5_sepconv2 (SeparableConv2 (None, 14, 14, 728)  536536      block5_sepconv2_act[0][0]        \n",
            "__________________________________________________________________________________________________\n",
            "block5_sepconv2_bn (BatchNormal (None, 14, 14, 728)  2912        block5_sepconv2[0][0]            \n",
            "__________________________________________________________________________________________________\n",
            "block5_sepconv3_act (Activation (None, 14, 14, 728)  0           block5_sepconv2_bn[0][0]         \n",
            "__________________________________________________________________________________________________\n",
            "block5_sepconv3 (SeparableConv2 (None, 14, 14, 728)  536536      block5_sepconv3_act[0][0]        \n",
            "__________________________________________________________________________________________________\n",
            "block5_sepconv3_bn (BatchNormal (None, 14, 14, 728)  2912        block5_sepconv3[0][0]            \n",
            "__________________________________________________________________________________________________\n",
            "add_3 (Add)                     (None, 14, 14, 728)  0           block5_sepconv3_bn[0][0]         \n",
            "                                                                 add_2[0][0]                      \n",
            "__________________________________________________________________________________________________\n",
            "block6_sepconv1_act (Activation (None, 14, 14, 728)  0           add_3[0][0]                      \n",
            "__________________________________________________________________________________________________\n",
            "block6_sepconv1 (SeparableConv2 (None, 14, 14, 728)  536536      block6_sepconv1_act[0][0]        \n",
            "__________________________________________________________________________________________________\n",
            "block6_sepconv1_bn (BatchNormal (None, 14, 14, 728)  2912        block6_sepconv1[0][0]            \n",
            "__________________________________________________________________________________________________\n",
            "block6_sepconv2_act (Activation (None, 14, 14, 728)  0           block6_sepconv1_bn[0][0]         \n",
            "__________________________________________________________________________________________________\n",
            "block6_sepconv2 (SeparableConv2 (None, 14, 14, 728)  536536      block6_sepconv2_act[0][0]        \n",
            "__________________________________________________________________________________________________\n",
            "block6_sepconv2_bn (BatchNormal (None, 14, 14, 728)  2912        block6_sepconv2[0][0]            \n",
            "__________________________________________________________________________________________________\n",
            "block6_sepconv3_act (Activation (None, 14, 14, 728)  0           block6_sepconv2_bn[0][0]         \n",
            "__________________________________________________________________________________________________\n",
            "block6_sepconv3 (SeparableConv2 (None, 14, 14, 728)  536536      block6_sepconv3_act[0][0]        \n",
            "__________________________________________________________________________________________________\n",
            "block6_sepconv3_bn (BatchNormal (None, 14, 14, 728)  2912        block6_sepconv3[0][0]            \n",
            "__________________________________________________________________________________________________\n",
            "add_4 (Add)                     (None, 14, 14, 728)  0           block6_sepconv3_bn[0][0]         \n",
            "                                                                 add_3[0][0]                      \n",
            "__________________________________________________________________________________________________\n",
            "block7_sepconv1_act (Activation (None, 14, 14, 728)  0           add_4[0][0]                      \n",
            "__________________________________________________________________________________________________\n",
            "block7_sepconv1 (SeparableConv2 (None, 14, 14, 728)  536536      block7_sepconv1_act[0][0]        \n",
            "__________________________________________________________________________________________________\n",
            "block7_sepconv1_bn (BatchNormal (None, 14, 14, 728)  2912        block7_sepconv1[0][0]            \n",
            "__________________________________________________________________________________________________\n",
            "block7_sepconv2_act (Activation (None, 14, 14, 728)  0           block7_sepconv1_bn[0][0]         \n",
            "__________________________________________________________________________________________________\n",
            "block7_sepconv2 (SeparableConv2 (None, 14, 14, 728)  536536      block7_sepconv2_act[0][0]        \n",
            "__________________________________________________________________________________________________\n",
            "block7_sepconv2_bn (BatchNormal (None, 14, 14, 728)  2912        block7_sepconv2[0][0]            \n",
            "__________________________________________________________________________________________________\n",
            "block7_sepconv3_act (Activation (None, 14, 14, 728)  0           block7_sepconv2_bn[0][0]         \n",
            "__________________________________________________________________________________________________\n",
            "block7_sepconv3 (SeparableConv2 (None, 14, 14, 728)  536536      block7_sepconv3_act[0][0]        \n",
            "__________________________________________________________________________________________________\n",
            "block7_sepconv3_bn (BatchNormal (None, 14, 14, 728)  2912        block7_sepconv3[0][0]            \n",
            "__________________________________________________________________________________________________\n",
            "add_5 (Add)                     (None, 14, 14, 728)  0           block7_sepconv3_bn[0][0]         \n",
            "                                                                 add_4[0][0]                      \n",
            "__________________________________________________________________________________________________\n",
            "block8_sepconv1_act (Activation (None, 14, 14, 728)  0           add_5[0][0]                      \n",
            "__________________________________________________________________________________________________\n",
            "block8_sepconv1 (SeparableConv2 (None, 14, 14, 728)  536536      block8_sepconv1_act[0][0]        \n",
            "__________________________________________________________________________________________________\n",
            "block8_sepconv1_bn (BatchNormal (None, 14, 14, 728)  2912        block8_sepconv1[0][0]            \n",
            "__________________________________________________________________________________________________\n",
            "block8_sepconv2_act (Activation (None, 14, 14, 728)  0           block8_sepconv1_bn[0][0]         \n",
            "__________________________________________________________________________________________________\n",
            "block8_sepconv2 (SeparableConv2 (None, 14, 14, 728)  536536      block8_sepconv2_act[0][0]        \n",
            "__________________________________________________________________________________________________\n",
            "block8_sepconv2_bn (BatchNormal (None, 14, 14, 728)  2912        block8_sepconv2[0][0]            \n",
            "__________________________________________________________________________________________________\n",
            "block8_sepconv3_act (Activation (None, 14, 14, 728)  0           block8_sepconv2_bn[0][0]         \n",
            "__________________________________________________________________________________________________\n",
            "block8_sepconv3 (SeparableConv2 (None, 14, 14, 728)  536536      block8_sepconv3_act[0][0]        \n",
            "__________________________________________________________________________________________________\n",
            "block8_sepconv3_bn (BatchNormal (None, 14, 14, 728)  2912        block8_sepconv3[0][0]            \n",
            "__________________________________________________________________________________________________\n",
            "add_6 (Add)                     (None, 14, 14, 728)  0           block8_sepconv3_bn[0][0]         \n",
            "                                                                 add_5[0][0]                      \n",
            "__________________________________________________________________________________________________\n",
            "block9_sepconv1_act (Activation (None, 14, 14, 728)  0           add_6[0][0]                      \n",
            "__________________________________________________________________________________________________\n",
            "block9_sepconv1 (SeparableConv2 (None, 14, 14, 728)  536536      block9_sepconv1_act[0][0]        \n",
            "__________________________________________________________________________________________________\n",
            "block9_sepconv1_bn (BatchNormal (None, 14, 14, 728)  2912        block9_sepconv1[0][0]            \n",
            "__________________________________________________________________________________________________\n",
            "block9_sepconv2_act (Activation (None, 14, 14, 728)  0           block9_sepconv1_bn[0][0]         \n",
            "__________________________________________________________________________________________________\n",
            "block9_sepconv2 (SeparableConv2 (None, 14, 14, 728)  536536      block9_sepconv2_act[0][0]        \n",
            "__________________________________________________________________________________________________\n",
            "block9_sepconv2_bn (BatchNormal (None, 14, 14, 728)  2912        block9_sepconv2[0][0]            \n",
            "__________________________________________________________________________________________________\n",
            "block9_sepconv3_act (Activation (None, 14, 14, 728)  0           block9_sepconv2_bn[0][0]         \n",
            "__________________________________________________________________________________________________\n",
            "block9_sepconv3 (SeparableConv2 (None, 14, 14, 728)  536536      block9_sepconv3_act[0][0]        \n",
            "__________________________________________________________________________________________________\n",
            "block9_sepconv3_bn (BatchNormal (None, 14, 14, 728)  2912        block9_sepconv3[0][0]            \n",
            "__________________________________________________________________________________________________\n",
            "add_7 (Add)                     (None, 14, 14, 728)  0           block9_sepconv3_bn[0][0]         \n",
            "                                                                 add_6[0][0]                      \n",
            "__________________________________________________________________________________________________\n",
            "block10_sepconv1_act (Activatio (None, 14, 14, 728)  0           add_7[0][0]                      \n",
            "__________________________________________________________________________________________________\n",
            "block10_sepconv1 (SeparableConv (None, 14, 14, 728)  536536      block10_sepconv1_act[0][0]       \n",
            "__________________________________________________________________________________________________\n",
            "block10_sepconv1_bn (BatchNorma (None, 14, 14, 728)  2912        block10_sepconv1[0][0]           \n",
            "__________________________________________________________________________________________________\n",
            "block10_sepconv2_act (Activatio (None, 14, 14, 728)  0           block10_sepconv1_bn[0][0]        \n",
            "__________________________________________________________________________________________________\n",
            "block10_sepconv2 (SeparableConv (None, 14, 14, 728)  536536      block10_sepconv2_act[0][0]       \n",
            "__________________________________________________________________________________________________\n",
            "block10_sepconv2_bn (BatchNorma (None, 14, 14, 728)  2912        block10_sepconv2[0][0]           \n",
            "__________________________________________________________________________________________________\n",
            "block10_sepconv3_act (Activatio (None, 14, 14, 728)  0           block10_sepconv2_bn[0][0]        \n",
            "__________________________________________________________________________________________________\n",
            "block10_sepconv3 (SeparableConv (None, 14, 14, 728)  536536      block10_sepconv3_act[0][0]       \n",
            "__________________________________________________________________________________________________\n",
            "block10_sepconv3_bn (BatchNorma (None, 14, 14, 728)  2912        block10_sepconv3[0][0]           \n",
            "__________________________________________________________________________________________________\n",
            "add_8 (Add)                     (None, 14, 14, 728)  0           block10_sepconv3_bn[0][0]        \n",
            "                                                                 add_7[0][0]                      \n",
            "__________________________________________________________________________________________________\n",
            "block11_sepconv1_act (Activatio (None, 14, 14, 728)  0           add_8[0][0]                      \n",
            "__________________________________________________________________________________________________\n",
            "block11_sepconv1 (SeparableConv (None, 14, 14, 728)  536536      block11_sepconv1_act[0][0]       \n",
            "__________________________________________________________________________________________________\n",
            "block11_sepconv1_bn (BatchNorma (None, 14, 14, 728)  2912        block11_sepconv1[0][0]           \n",
            "__________________________________________________________________________________________________\n",
            "block11_sepconv2_act (Activatio (None, 14, 14, 728)  0           block11_sepconv1_bn[0][0]        \n",
            "__________________________________________________________________________________________________\n",
            "block11_sepconv2 (SeparableConv (None, 14, 14, 728)  536536      block11_sepconv2_act[0][0]       \n",
            "__________________________________________________________________________________________________\n",
            "block11_sepconv2_bn (BatchNorma (None, 14, 14, 728)  2912        block11_sepconv2[0][0]           \n",
            "__________________________________________________________________________________________________\n",
            "block11_sepconv3_act (Activatio (None, 14, 14, 728)  0           block11_sepconv2_bn[0][0]        \n",
            "__________________________________________________________________________________________________\n",
            "block11_sepconv3 (SeparableConv (None, 14, 14, 728)  536536      block11_sepconv3_act[0][0]       \n",
            "__________________________________________________________________________________________________\n",
            "block11_sepconv3_bn (BatchNorma (None, 14, 14, 728)  2912        block11_sepconv3[0][0]           \n",
            "__________________________________________________________________________________________________\n",
            "add_9 (Add)                     (None, 14, 14, 728)  0           block11_sepconv3_bn[0][0]        \n",
            "                                                                 add_8[0][0]                      \n",
            "__________________________________________________________________________________________________\n",
            "block12_sepconv1_act (Activatio (None, 14, 14, 728)  0           add_9[0][0]                      \n",
            "__________________________________________________________________________________________________\n",
            "block12_sepconv1 (SeparableConv (None, 14, 14, 728)  536536      block12_sepconv1_act[0][0]       \n",
            "__________________________________________________________________________________________________\n",
            "block12_sepconv1_bn (BatchNorma (None, 14, 14, 728)  2912        block12_sepconv1[0][0]           \n",
            "__________________________________________________________________________________________________\n",
            "block12_sepconv2_act (Activatio (None, 14, 14, 728)  0           block12_sepconv1_bn[0][0]        \n",
            "__________________________________________________________________________________________________\n",
            "block12_sepconv2 (SeparableConv (None, 14, 14, 728)  536536      block12_sepconv2_act[0][0]       \n",
            "__________________________________________________________________________________________________\n",
            "block12_sepconv2_bn (BatchNorma (None, 14, 14, 728)  2912        block12_sepconv2[0][0]           \n",
            "__________________________________________________________________________________________________\n",
            "block12_sepconv3_act (Activatio (None, 14, 14, 728)  0           block12_sepconv2_bn[0][0]        \n",
            "__________________________________________________________________________________________________\n",
            "block12_sepconv3 (SeparableConv (None, 14, 14, 728)  536536      block12_sepconv3_act[0][0]       \n",
            "__________________________________________________________________________________________________\n",
            "block12_sepconv3_bn (BatchNorma (None, 14, 14, 728)  2912        block12_sepconv3[0][0]           \n",
            "__________________________________________________________________________________________________\n",
            "add_10 (Add)                    (None, 14, 14, 728)  0           block12_sepconv3_bn[0][0]        \n",
            "                                                                 add_9[0][0]                      \n",
            "__________________________________________________________________________________________________\n",
            "block13_sepconv1_act (Activatio (None, 14, 14, 728)  0           add_10[0][0]                     \n",
            "__________________________________________________________________________________________________\n",
            "block13_sepconv1 (SeparableConv (None, 14, 14, 728)  536536      block13_sepconv1_act[0][0]       \n",
            "__________________________________________________________________________________________________\n",
            "block13_sepconv1_bn (BatchNorma (None, 14, 14, 728)  2912        block13_sepconv1[0][0]           \n",
            "__________________________________________________________________________________________________\n",
            "block13_sepconv2_act (Activatio (None, 14, 14, 728)  0           block13_sepconv1_bn[0][0]        \n",
            "__________________________________________________________________________________________________\n",
            "block13_sepconv2 (SeparableConv (None, 14, 14, 1024) 752024      block13_sepconv2_act[0][0]       \n",
            "__________________________________________________________________________________________________\n",
            "block13_sepconv2_bn (BatchNorma (None, 14, 14, 1024) 4096        block13_sepconv2[0][0]           \n",
            "__________________________________________________________________________________________________\n",
            "conv2d_3 (Conv2D)               (None, 7, 7, 1024)   745472      add_10[0][0]                     \n",
            "__________________________________________________________________________________________________\n",
            "block13_pool (MaxPooling2D)     (None, 7, 7, 1024)   0           block13_sepconv2_bn[0][0]        \n",
            "__________________________________________________________________________________________________\n",
            "batch_normalization_3 (BatchNor (None, 7, 7, 1024)   4096        conv2d_3[0][0]                   \n",
            "__________________________________________________________________________________________________\n",
            "add_11 (Add)                    (None, 7, 7, 1024)   0           block13_pool[0][0]               \n",
            "                                                                 batch_normalization_3[0][0]      \n",
            "__________________________________________________________________________________________________\n",
            "block14_sepconv1 (SeparableConv (None, 7, 7, 1536)   1582080     add_11[0][0]                     \n",
            "__________________________________________________________________________________________________\n",
            "block14_sepconv1_bn (BatchNorma (None, 7, 7, 1536)   6144        block14_sepconv1[0][0]           \n",
            "__________________________________________________________________________________________________\n",
            "block14_sepconv1_act (Activatio (None, 7, 7, 1536)   0           block14_sepconv1_bn[0][0]        \n",
            "__________________________________________________________________________________________________\n",
            "block14_sepconv2 (SeparableConv (None, 7, 7, 2048)   3159552     block14_sepconv1_act[0][0]       \n",
            "__________________________________________________________________________________________________\n",
            "block14_sepconv2_bn (BatchNorma (None, 7, 7, 2048)   8192        block14_sepconv2[0][0]           \n",
            "__________________________________________________________________________________________________\n",
            "block14_sepconv2_act (Activatio (None, 7, 7, 2048)   0           block14_sepconv2_bn[0][0]        \n",
            "__________________________________________________________________________________________________\n",
            "dropout_6 (Dropout)             (None, 7, 7, 2048)   0           block14_sepconv2_act[0][0]       \n",
            "__________________________________________________________________________________________________\n",
            "global_average_pooling2d_3 (Glo (None, 2048)         0           dropout_6[0][0]                  \n",
            "__________________________________________________________________________________________________\n",
            "dropout_7 (Dropout)             (None, 2048)         0           global_average_pooling2d_3[0][0] \n",
            "__________________________________________________________________________________________________\n",
            "dense_6 (Dense)                 (None, 16)           32784       dropout_7[0][0]                  \n",
            "__________________________________________________________________________________________________\n",
            "dense_7 (Dense)                 (None, 1)            17          dense_6[0][0]                    \n",
            "==================================================================================================\n",
            "Total params: 20,894,281\n",
            "Trainable params: 32,801\n",
            "Non-trainable params: 20,861,480\n",
            "__________________________________________________________________________________________________\n"
          ],
          "name": "stdout"
        }
      ]
    },
    {
      "cell_type": "code",
      "metadata": {
        "id": "OtM9SrOmpHNd"
      },
      "source": [
        "new_model.compile(optimizer = Adam(lr = 0.0001), loss = 'binary_crossentropy',\n",
        "                           metrics = ['accuracy'])"
      ],
      "execution_count": null,
      "outputs": []
    },
    {
      "cell_type": "markdown",
      "metadata": {
        "id": "O5nR9k-eP2f5"
      },
      "source": [
        "train model"
      ]
    },
    {
      "cell_type": "code",
      "metadata": {
        "id": "yiEygs4kpHHI",
        "outputId": "47451a6e-aa90-41b2-88e6-86794b0e019b",
        "colab": {
          "base_uri": "https://localhost:8080/",
          "height": 1000
        }
      },
      "source": [
        "checkpointer = ModelCheckpoint('/content/drive/My Drive/transfer learning/combined_Xception.model', \n",
        "    verbose=2, \n",
        "    save_best_only=True)\n",
        "history = new_model.fit(\n",
        "    train_x,train_y,\n",
        "    validation_data=(val_x, val_y),\n",
        "    epochs=100, \n",
        "    verbose=1,\n",
        "    callbacks=[checkpointer])"
      ],
      "execution_count": null,
      "outputs": [
        {
          "output_type": "stream",
          "text": [
            "Epoch 1/100\n",
            "27/27 [==============================] - ETA: 0s - loss: 0.6407 - accuracy: 0.6901\n",
            "Epoch 00001: val_loss improved from inf to 0.56660, saving model to /content/drive/My Drive/transfer learning/combined_Xception.model\n",
            "WARNING:tensorflow:From /usr/local/lib/python3.6/dist-packages/tensorflow/python/training/tracking/tracking.py:111: Model.state_updates (from tensorflow.python.keras.engine.training) is deprecated and will be removed in a future version.\n",
            "Instructions for updating:\n",
            "This property should not be used in TensorFlow 2.0, as updates are applied automatically.\n",
            "WARNING:tensorflow:From /usr/local/lib/python3.6/dist-packages/tensorflow/python/training/tracking/tracking.py:111: Layer.updates (from tensorflow.python.keras.engine.base_layer) is deprecated and will be removed in a future version.\n",
            "Instructions for updating:\n",
            "This property should not be used in TensorFlow 2.0, as updates are applied automatically.\n",
            "INFO:tensorflow:Assets written to: /content/drive/My Drive/transfer learning/combined_Xception.model/assets\n",
            "27/27 [==============================] - 21s 784ms/step - loss: 0.6407 - accuracy: 0.6901 - val_loss: 0.5666 - val_accuracy: 0.8316\n",
            "Epoch 2/100\n",
            "27/27 [==============================] - ETA: 0s - loss: 0.5518 - accuracy: 0.8304\n",
            "Epoch 00002: val_loss improved from 0.56660 to 0.48154, saving model to /content/drive/My Drive/transfer learning/combined_Xception.model\n",
            "INFO:tensorflow:Assets written to: /content/drive/My Drive/transfer learning/combined_Xception.model/assets\n",
            "27/27 [==============================] - 20s 731ms/step - loss: 0.5518 - accuracy: 0.8304 - val_loss: 0.4815 - val_accuracy: 0.8842\n",
            "Epoch 3/100\n",
            "27/27 [==============================] - ETA: 0s - loss: 0.4888 - accuracy: 0.8690\n",
            "Epoch 00003: val_loss improved from 0.48154 to 0.42234, saving model to /content/drive/My Drive/transfer learning/combined_Xception.model\n",
            "INFO:tensorflow:Assets written to: /content/drive/My Drive/transfer learning/combined_Xception.model/assets\n",
            "27/27 [==============================] - 19s 718ms/step - loss: 0.4888 - accuracy: 0.8690 - val_loss: 0.4223 - val_accuracy: 0.9158\n",
            "Epoch 4/100\n",
            "27/27 [==============================] - ETA: 0s - loss: 0.4372 - accuracy: 0.8947\n",
            "Epoch 00004: val_loss improved from 0.42234 to 0.37880, saving model to /content/drive/My Drive/transfer learning/combined_Xception.model\n",
            "INFO:tensorflow:Assets written to: /content/drive/My Drive/transfer learning/combined_Xception.model/assets\n",
            "27/27 [==============================] - 20s 723ms/step - loss: 0.4372 - accuracy: 0.8947 - val_loss: 0.3788 - val_accuracy: 0.9263\n",
            "Epoch 5/100\n",
            "27/27 [==============================] - ETA: 0s - loss: 0.4023 - accuracy: 0.8901\n",
            "Epoch 00005: val_loss improved from 0.37880 to 0.34592, saving model to /content/drive/My Drive/transfer learning/combined_Xception.model\n",
            "INFO:tensorflow:Assets written to: /content/drive/My Drive/transfer learning/combined_Xception.model/assets\n",
            "27/27 [==============================] - 19s 722ms/step - loss: 0.4023 - accuracy: 0.8901 - val_loss: 0.3459 - val_accuracy: 0.9368\n",
            "Epoch 6/100\n",
            "27/27 [==============================] - ETA: 0s - loss: 0.3754 - accuracy: 0.9053\n",
            "Epoch 00006: val_loss improved from 0.34592 to 0.32058, saving model to /content/drive/My Drive/transfer learning/combined_Xception.model\n",
            "INFO:tensorflow:Assets written to: /content/drive/My Drive/transfer learning/combined_Xception.model/assets\n",
            "27/27 [==============================] - 20s 728ms/step - loss: 0.3754 - accuracy: 0.9053 - val_loss: 0.3206 - val_accuracy: 0.9263\n",
            "Epoch 7/100\n",
            "27/27 [==============================] - ETA: 0s - loss: 0.3573 - accuracy: 0.9123\n",
            "Epoch 00007: val_loss improved from 0.32058 to 0.30059, saving model to /content/drive/My Drive/transfer learning/combined_Xception.model\n",
            "INFO:tensorflow:Assets written to: /content/drive/My Drive/transfer learning/combined_Xception.model/assets\n",
            "27/27 [==============================] - 20s 726ms/step - loss: 0.3573 - accuracy: 0.9123 - val_loss: 0.3006 - val_accuracy: 0.9368\n",
            "Epoch 8/100\n",
            "27/27 [==============================] - ETA: 0s - loss: 0.3395 - accuracy: 0.9123\n",
            "Epoch 00008: val_loss improved from 0.30059 to 0.28399, saving model to /content/drive/My Drive/transfer learning/combined_Xception.model\n",
            "INFO:tensorflow:Assets written to: /content/drive/My Drive/transfer learning/combined_Xception.model/assets\n",
            "27/27 [==============================] - 19s 718ms/step - loss: 0.3395 - accuracy: 0.9123 - val_loss: 0.2840 - val_accuracy: 0.9368\n",
            "Epoch 9/100\n",
            "27/27 [==============================] - ETA: 0s - loss: 0.3205 - accuracy: 0.9228\n",
            "Epoch 00009: val_loss improved from 0.28399 to 0.27073, saving model to /content/drive/My Drive/transfer learning/combined_Xception.model\n",
            "INFO:tensorflow:Assets written to: /content/drive/My Drive/transfer learning/combined_Xception.model/assets\n",
            "27/27 [==============================] - 20s 728ms/step - loss: 0.3205 - accuracy: 0.9228 - val_loss: 0.2707 - val_accuracy: 0.9474\n",
            "Epoch 10/100\n",
            "27/27 [==============================] - ETA: 0s - loss: 0.3088 - accuracy: 0.9263\n",
            "Epoch 00010: val_loss improved from 0.27073 to 0.25931, saving model to /content/drive/My Drive/transfer learning/combined_Xception.model\n",
            "INFO:tensorflow:Assets written to: /content/drive/My Drive/transfer learning/combined_Xception.model/assets\n",
            "27/27 [==============================] - 20s 735ms/step - loss: 0.3088 - accuracy: 0.9263 - val_loss: 0.2593 - val_accuracy: 0.9474\n",
            "Epoch 11/100\n",
            "27/27 [==============================] - ETA: 0s - loss: 0.2991 - accuracy: 0.9228\n",
            "Epoch 00011: val_loss improved from 0.25931 to 0.24962, saving model to /content/drive/My Drive/transfer learning/combined_Xception.model\n",
            "INFO:tensorflow:Assets written to: /content/drive/My Drive/transfer learning/combined_Xception.model/assets\n",
            "27/27 [==============================] - 19s 720ms/step - loss: 0.2991 - accuracy: 0.9228 - val_loss: 0.2496 - val_accuracy: 0.9474\n",
            "Epoch 12/100\n",
            "27/27 [==============================] - ETA: 0s - loss: 0.2892 - accuracy: 0.9263\n",
            "Epoch 00012: val_loss improved from 0.24962 to 0.24145, saving model to /content/drive/My Drive/transfer learning/combined_Xception.model\n",
            "INFO:tensorflow:Assets written to: /content/drive/My Drive/transfer learning/combined_Xception.model/assets\n",
            "27/27 [==============================] - 20s 722ms/step - loss: 0.2892 - accuracy: 0.9263 - val_loss: 0.2415 - val_accuracy: 0.9474\n",
            "Epoch 13/100\n",
            "27/27 [==============================] - ETA: 0s - loss: 0.2775 - accuracy: 0.9357\n",
            "Epoch 00013: val_loss improved from 0.24145 to 0.23416, saving model to /content/drive/My Drive/transfer learning/combined_Xception.model\n",
            "INFO:tensorflow:Assets written to: /content/drive/My Drive/transfer learning/combined_Xception.model/assets\n",
            "27/27 [==============================] - 19s 715ms/step - loss: 0.2775 - accuracy: 0.9357 - val_loss: 0.2342 - val_accuracy: 0.9474\n",
            "Epoch 14/100\n",
            "27/27 [==============================] - ETA: 0s - loss: 0.2740 - accuracy: 0.9322\n",
            "Epoch 00014: val_loss improved from 0.23416 to 0.22727, saving model to /content/drive/My Drive/transfer learning/combined_Xception.model\n",
            "INFO:tensorflow:Assets written to: /content/drive/My Drive/transfer learning/combined_Xception.model/assets\n",
            "27/27 [==============================] - 20s 725ms/step - loss: 0.2740 - accuracy: 0.9322 - val_loss: 0.2273 - val_accuracy: 0.9474\n",
            "Epoch 15/100\n",
            "27/27 [==============================] - ETA: 0s - loss: 0.2637 - accuracy: 0.9298\n",
            "Epoch 00015: val_loss improved from 0.22727 to 0.22163, saving model to /content/drive/My Drive/transfer learning/combined_Xception.model\n",
            "INFO:tensorflow:Assets written to: /content/drive/My Drive/transfer learning/combined_Xception.model/assets\n",
            "27/27 [==============================] - 19s 722ms/step - loss: 0.2637 - accuracy: 0.9298 - val_loss: 0.2216 - val_accuracy: 0.9474\n",
            "Epoch 16/100\n",
            "27/27 [==============================] - ETA: 0s - loss: 0.2577 - accuracy: 0.9275\n",
            "Epoch 00016: val_loss improved from 0.22163 to 0.21655, saving model to /content/drive/My Drive/transfer learning/combined_Xception.model\n",
            "INFO:tensorflow:Assets written to: /content/drive/My Drive/transfer learning/combined_Xception.model/assets\n",
            "27/27 [==============================] - 19s 719ms/step - loss: 0.2577 - accuracy: 0.9275 - val_loss: 0.2166 - val_accuracy: 0.9474\n",
            "Epoch 17/100\n",
            "27/27 [==============================] - ETA: 0s - loss: 0.2510 - accuracy: 0.9427\n",
            "Epoch 00017: val_loss improved from 0.21655 to 0.21211, saving model to /content/drive/My Drive/transfer learning/combined_Xception.model\n",
            "INFO:tensorflow:Assets written to: /content/drive/My Drive/transfer learning/combined_Xception.model/assets\n",
            "27/27 [==============================] - 19s 711ms/step - loss: 0.2510 - accuracy: 0.9427 - val_loss: 0.2121 - val_accuracy: 0.9474\n",
            "Epoch 18/100\n",
            "27/27 [==============================] - ETA: 0s - loss: 0.2453 - accuracy: 0.9392\n",
            "Epoch 00018: val_loss improved from 0.21211 to 0.20795, saving model to /content/drive/My Drive/transfer learning/combined_Xception.model\n",
            "INFO:tensorflow:Assets written to: /content/drive/My Drive/transfer learning/combined_Xception.model/assets\n",
            "27/27 [==============================] - 19s 720ms/step - loss: 0.2453 - accuracy: 0.9392 - val_loss: 0.2080 - val_accuracy: 0.9474\n",
            "Epoch 19/100\n",
            "27/27 [==============================] - ETA: 0s - loss: 0.2426 - accuracy: 0.9392\n",
            "Epoch 00019: val_loss improved from 0.20795 to 0.20425, saving model to /content/drive/My Drive/transfer learning/combined_Xception.model\n",
            "INFO:tensorflow:Assets written to: /content/drive/My Drive/transfer learning/combined_Xception.model/assets\n",
            "27/27 [==============================] - 19s 721ms/step - loss: 0.2426 - accuracy: 0.9392 - val_loss: 0.2042 - val_accuracy: 0.9474\n",
            "Epoch 20/100\n",
            "27/27 [==============================] - ETA: 0s - loss: 0.2378 - accuracy: 0.9415\n",
            "Epoch 00020: val_loss improved from 0.20425 to 0.20061, saving model to /content/drive/My Drive/transfer learning/combined_Xception.model\n",
            "INFO:tensorflow:Assets written to: /content/drive/My Drive/transfer learning/combined_Xception.model/assets\n",
            "27/27 [==============================] - 19s 715ms/step - loss: 0.2378 - accuracy: 0.9415 - val_loss: 0.2006 - val_accuracy: 0.9474\n",
            "Epoch 21/100\n",
            "27/27 [==============================] - ETA: 0s - loss: 0.2309 - accuracy: 0.9380\n",
            "Epoch 00021: val_loss improved from 0.20061 to 0.19755, saving model to /content/drive/My Drive/transfer learning/combined_Xception.model\n",
            "INFO:tensorflow:Assets written to: /content/drive/My Drive/transfer learning/combined_Xception.model/assets\n",
            "27/27 [==============================] - 19s 719ms/step - loss: 0.2309 - accuracy: 0.9380 - val_loss: 0.1975 - val_accuracy: 0.9474\n",
            "Epoch 22/100\n",
            "27/27 [==============================] - ETA: 0s - loss: 0.2290 - accuracy: 0.9357\n",
            "Epoch 00022: val_loss improved from 0.19755 to 0.19451, saving model to /content/drive/My Drive/transfer learning/combined_Xception.model\n",
            "INFO:tensorflow:Assets written to: /content/drive/My Drive/transfer learning/combined_Xception.model/assets\n",
            "27/27 [==============================] - 19s 721ms/step - loss: 0.2290 - accuracy: 0.9357 - val_loss: 0.1945 - val_accuracy: 0.9474\n",
            "Epoch 23/100\n",
            "27/27 [==============================] - ETA: 0s - loss: 0.2260 - accuracy: 0.9427\n",
            "Epoch 00023: val_loss improved from 0.19451 to 0.19208, saving model to /content/drive/My Drive/transfer learning/combined_Xception.model\n",
            "INFO:tensorflow:Assets written to: /content/drive/My Drive/transfer learning/combined_Xception.model/assets\n",
            "27/27 [==============================] - 19s 717ms/step - loss: 0.2260 - accuracy: 0.9427 - val_loss: 0.1921 - val_accuracy: 0.9474\n",
            "Epoch 24/100\n",
            "27/27 [==============================] - ETA: 0s - loss: 0.2220 - accuracy: 0.9415\n",
            "Epoch 00024: val_loss improved from 0.19208 to 0.18953, saving model to /content/drive/My Drive/transfer learning/combined_Xception.model\n",
            "INFO:tensorflow:Assets written to: /content/drive/My Drive/transfer learning/combined_Xception.model/assets\n",
            "27/27 [==============================] - 19s 720ms/step - loss: 0.2220 - accuracy: 0.9415 - val_loss: 0.1895 - val_accuracy: 0.9474\n",
            "Epoch 25/100\n",
            "27/27 [==============================] - ETA: 0s - loss: 0.2175 - accuracy: 0.9474\n",
            "Epoch 00025: val_loss improved from 0.18953 to 0.18726, saving model to /content/drive/My Drive/transfer learning/combined_Xception.model\n",
            "INFO:tensorflow:Assets written to: /content/drive/My Drive/transfer learning/combined_Xception.model/assets\n",
            "27/27 [==============================] - 19s 712ms/step - loss: 0.2175 - accuracy: 0.9474 - val_loss: 0.1873 - val_accuracy: 0.9474\n",
            "Epoch 26/100\n",
            "27/27 [==============================] - ETA: 0s - loss: 0.2146 - accuracy: 0.9415\n",
            "Epoch 00026: val_loss improved from 0.18726 to 0.18544, saving model to /content/drive/My Drive/transfer learning/combined_Xception.model\n",
            "INFO:tensorflow:Assets written to: /content/drive/My Drive/transfer learning/combined_Xception.model/assets\n",
            "27/27 [==============================] - 20s 725ms/step - loss: 0.2146 - accuracy: 0.9415 - val_loss: 0.1854 - val_accuracy: 0.9474\n",
            "Epoch 27/100\n",
            "27/27 [==============================] - ETA: 0s - loss: 0.2122 - accuracy: 0.9427\n",
            "Epoch 00027: val_loss improved from 0.18544 to 0.18317, saving model to /content/drive/My Drive/transfer learning/combined_Xception.model\n",
            "INFO:tensorflow:Assets written to: /content/drive/My Drive/transfer learning/combined_Xception.model/assets\n",
            "27/27 [==============================] - 19s 713ms/step - loss: 0.2122 - accuracy: 0.9427 - val_loss: 0.1832 - val_accuracy: 0.9474\n",
            "Epoch 28/100\n",
            "27/27 [==============================] - ETA: 0s - loss: 0.2063 - accuracy: 0.9485\n",
            "Epoch 00028: val_loss improved from 0.18317 to 0.18149, saving model to /content/drive/My Drive/transfer learning/combined_Xception.model\n",
            "INFO:tensorflow:Assets written to: /content/drive/My Drive/transfer learning/combined_Xception.model/assets\n",
            "27/27 [==============================] - 19s 719ms/step - loss: 0.2063 - accuracy: 0.9485 - val_loss: 0.1815 - val_accuracy: 0.9474\n",
            "Epoch 29/100\n",
            "27/27 [==============================] - ETA: 0s - loss: 0.2050 - accuracy: 0.9497\n",
            "Epoch 00029: val_loss improved from 0.18149 to 0.18007, saving model to /content/drive/My Drive/transfer learning/combined_Xception.model\n",
            "INFO:tensorflow:Assets written to: /content/drive/My Drive/transfer learning/combined_Xception.model/assets\n",
            "27/27 [==============================] - 19s 714ms/step - loss: 0.2050 - accuracy: 0.9497 - val_loss: 0.1801 - val_accuracy: 0.9474\n",
            "Epoch 30/100\n",
            "27/27 [==============================] - ETA: 0s - loss: 0.2013 - accuracy: 0.9497\n",
            "Epoch 00030: val_loss improved from 0.18007 to 0.17852, saving model to /content/drive/My Drive/transfer learning/combined_Xception.model\n",
            "INFO:tensorflow:Assets written to: /content/drive/My Drive/transfer learning/combined_Xception.model/assets\n",
            "27/27 [==============================] - 19s 715ms/step - loss: 0.2013 - accuracy: 0.9497 - val_loss: 0.1785 - val_accuracy: 0.9474\n",
            "Epoch 31/100\n",
            "27/27 [==============================] - ETA: 0s - loss: 0.2030 - accuracy: 0.9415\n",
            "Epoch 00031: val_loss improved from 0.17852 to 0.17682, saving model to /content/drive/My Drive/transfer learning/combined_Xception.model\n",
            "INFO:tensorflow:Assets written to: /content/drive/My Drive/transfer learning/combined_Xception.model/assets\n",
            "27/27 [==============================] - 19s 716ms/step - loss: 0.2030 - accuracy: 0.9415 - val_loss: 0.1768 - val_accuracy: 0.9474\n",
            "Epoch 32/100\n",
            "27/27 [==============================] - ETA: 0s - loss: 0.1950 - accuracy: 0.9556\n",
            "Epoch 00032: val_loss improved from 0.17682 to 0.17554, saving model to /content/drive/My Drive/transfer learning/combined_Xception.model\n",
            "INFO:tensorflow:Assets written to: /content/drive/My Drive/transfer learning/combined_Xception.model/assets\n",
            "27/27 [==============================] - 19s 699ms/step - loss: 0.1950 - accuracy: 0.9556 - val_loss: 0.1755 - val_accuracy: 0.9474\n",
            "Epoch 33/100\n",
            "27/27 [==============================] - ETA: 0s - loss: 0.1943 - accuracy: 0.9439\n",
            "Epoch 00033: val_loss improved from 0.17554 to 0.17455, saving model to /content/drive/My Drive/transfer learning/combined_Xception.model\n",
            "INFO:tensorflow:Assets written to: /content/drive/My Drive/transfer learning/combined_Xception.model/assets\n",
            "27/27 [==============================] - 19s 702ms/step - loss: 0.1943 - accuracy: 0.9439 - val_loss: 0.1745 - val_accuracy: 0.9474\n",
            "Epoch 34/100\n",
            "27/27 [==============================] - ETA: 0s - loss: 0.1907 - accuracy: 0.9532\n",
            "Epoch 00034: val_loss improved from 0.17455 to 0.17320, saving model to /content/drive/My Drive/transfer learning/combined_Xception.model\n",
            "INFO:tensorflow:Assets written to: /content/drive/My Drive/transfer learning/combined_Xception.model/assets\n",
            "27/27 [==============================] - 19s 716ms/step - loss: 0.1907 - accuracy: 0.9532 - val_loss: 0.1732 - val_accuracy: 0.9474\n",
            "Epoch 35/100\n",
            "27/27 [==============================] - ETA: 0s - loss: 0.1936 - accuracy: 0.9450\n",
            "Epoch 00035: val_loss improved from 0.17320 to 0.17205, saving model to /content/drive/My Drive/transfer learning/combined_Xception.model\n",
            "INFO:tensorflow:Assets written to: /content/drive/My Drive/transfer learning/combined_Xception.model/assets\n",
            "27/27 [==============================] - 19s 708ms/step - loss: 0.1936 - accuracy: 0.9450 - val_loss: 0.1720 - val_accuracy: 0.9474\n",
            "Epoch 36/100\n",
            "27/27 [==============================] - ETA: 0s - loss: 0.1939 - accuracy: 0.9427\n",
            "Epoch 00036: val_loss improved from 0.17205 to 0.17110, saving model to /content/drive/My Drive/transfer learning/combined_Xception.model\n",
            "INFO:tensorflow:Assets written to: /content/drive/My Drive/transfer learning/combined_Xception.model/assets\n",
            "27/27 [==============================] - 19s 707ms/step - loss: 0.1939 - accuracy: 0.9427 - val_loss: 0.1711 - val_accuracy: 0.9474\n",
            "Epoch 37/100\n",
            "27/27 [==============================] - ETA: 0s - loss: 0.1924 - accuracy: 0.9497\n",
            "Epoch 00037: val_loss improved from 0.17110 to 0.17001, saving model to /content/drive/My Drive/transfer learning/combined_Xception.model\n",
            "INFO:tensorflow:Assets written to: /content/drive/My Drive/transfer learning/combined_Xception.model/assets\n",
            "27/27 [==============================] - 19s 708ms/step - loss: 0.1924 - accuracy: 0.9497 - val_loss: 0.1700 - val_accuracy: 0.9474\n",
            "Epoch 38/100\n",
            "27/27 [==============================] - ETA: 0s - loss: 0.1878 - accuracy: 0.9450\n",
            "Epoch 00038: val_loss improved from 0.17001 to 0.16918, saving model to /content/drive/My Drive/transfer learning/combined_Xception.model\n",
            "INFO:tensorflow:Assets written to: /content/drive/My Drive/transfer learning/combined_Xception.model/assets\n",
            "27/27 [==============================] - 19s 707ms/step - loss: 0.1878 - accuracy: 0.9450 - val_loss: 0.1692 - val_accuracy: 0.9474\n",
            "Epoch 39/100\n",
            "27/27 [==============================] - ETA: 0s - loss: 0.1842 - accuracy: 0.9497\n",
            "Epoch 00039: val_loss improved from 0.16918 to 0.16839, saving model to /content/drive/My Drive/transfer learning/combined_Xception.model\n",
            "INFO:tensorflow:Assets written to: /content/drive/My Drive/transfer learning/combined_Xception.model/assets\n",
            "27/27 [==============================] - 19s 716ms/step - loss: 0.1842 - accuracy: 0.9497 - val_loss: 0.1684 - val_accuracy: 0.9474\n",
            "Epoch 40/100\n",
            "27/27 [==============================] - ETA: 0s - loss: 0.1864 - accuracy: 0.9474\n",
            "Epoch 00040: val_loss improved from 0.16839 to 0.16726, saving model to /content/drive/My Drive/transfer learning/combined_Xception.model\n",
            "INFO:tensorflow:Assets written to: /content/drive/My Drive/transfer learning/combined_Xception.model/assets\n",
            "27/27 [==============================] - 19s 699ms/step - loss: 0.1864 - accuracy: 0.9474 - val_loss: 0.1673 - val_accuracy: 0.9474\n",
            "Epoch 41/100\n",
            "27/27 [==============================] - ETA: 0s - loss: 0.1802 - accuracy: 0.9497\n",
            "Epoch 00041: val_loss improved from 0.16726 to 0.16644, saving model to /content/drive/My Drive/transfer learning/combined_Xception.model\n",
            "INFO:tensorflow:Assets written to: /content/drive/My Drive/transfer learning/combined_Xception.model/assets\n",
            "27/27 [==============================] - 19s 704ms/step - loss: 0.1802 - accuracy: 0.9497 - val_loss: 0.1664 - val_accuracy: 0.9474\n",
            "Epoch 42/100\n",
            "27/27 [==============================] - ETA: 0s - loss: 0.1832 - accuracy: 0.9497\n",
            "Epoch 00042: val_loss improved from 0.16644 to 0.16570, saving model to /content/drive/My Drive/transfer learning/combined_Xception.model\n",
            "INFO:tensorflow:Assets written to: /content/drive/My Drive/transfer learning/combined_Xception.model/assets\n",
            "27/27 [==============================] - 19s 702ms/step - loss: 0.1832 - accuracy: 0.9497 - val_loss: 0.1657 - val_accuracy: 0.9474\n",
            "Epoch 43/100\n",
            "27/27 [==============================] - ETA: 0s - loss: 0.1742 - accuracy: 0.9509\n",
            "Epoch 00043: val_loss improved from 0.16570 to 0.16477, saving model to /content/drive/My Drive/transfer learning/combined_Xception.model\n",
            "INFO:tensorflow:Assets written to: /content/drive/My Drive/transfer learning/combined_Xception.model/assets\n",
            "27/27 [==============================] - 19s 708ms/step - loss: 0.1742 - accuracy: 0.9509 - val_loss: 0.1648 - val_accuracy: 0.9474\n",
            "Epoch 44/100\n",
            "27/27 [==============================] - ETA: 0s - loss: 0.1773 - accuracy: 0.9509\n",
            "Epoch 00044: val_loss improved from 0.16477 to 0.16417, saving model to /content/drive/My Drive/transfer learning/combined_Xception.model\n",
            "INFO:tensorflow:Assets written to: /content/drive/My Drive/transfer learning/combined_Xception.model/assets\n",
            "27/27 [==============================] - 19s 706ms/step - loss: 0.1773 - accuracy: 0.9509 - val_loss: 0.1642 - val_accuracy: 0.9474\n",
            "Epoch 45/100\n",
            "27/27 [==============================] - ETA: 0s - loss: 0.1760 - accuracy: 0.9520\n",
            "Epoch 00045: val_loss improved from 0.16417 to 0.16377, saving model to /content/drive/My Drive/transfer learning/combined_Xception.model\n",
            "INFO:tensorflow:Assets written to: /content/drive/My Drive/transfer learning/combined_Xception.model/assets\n",
            "27/27 [==============================] - 19s 698ms/step - loss: 0.1760 - accuracy: 0.9520 - val_loss: 0.1638 - val_accuracy: 0.9474\n",
            "Epoch 46/100\n",
            "27/27 [==============================] - ETA: 0s - loss: 0.1698 - accuracy: 0.9544\n",
            "Epoch 00046: val_loss improved from 0.16377 to 0.16310, saving model to /content/drive/My Drive/transfer learning/combined_Xception.model\n",
            "INFO:tensorflow:Assets written to: /content/drive/My Drive/transfer learning/combined_Xception.model/assets\n",
            "27/27 [==============================] - 19s 701ms/step - loss: 0.1698 - accuracy: 0.9544 - val_loss: 0.1631 - val_accuracy: 0.9474\n",
            "Epoch 47/100\n",
            "27/27 [==============================] - ETA: 0s - loss: 0.1731 - accuracy: 0.9474\n",
            "Epoch 00047: val_loss improved from 0.16310 to 0.16238, saving model to /content/drive/My Drive/transfer learning/combined_Xception.model\n",
            "INFO:tensorflow:Assets written to: /content/drive/My Drive/transfer learning/combined_Xception.model/assets\n",
            "27/27 [==============================] - 19s 709ms/step - loss: 0.1731 - accuracy: 0.9474 - val_loss: 0.1624 - val_accuracy: 0.9474\n",
            "Epoch 48/100\n",
            "27/27 [==============================] - ETA: 0s - loss: 0.1724 - accuracy: 0.9509\n",
            "Epoch 00048: val_loss improved from 0.16238 to 0.16190, saving model to /content/drive/My Drive/transfer learning/combined_Xception.model\n",
            "INFO:tensorflow:Assets written to: /content/drive/My Drive/transfer learning/combined_Xception.model/assets\n",
            "27/27 [==============================] - 19s 700ms/step - loss: 0.1724 - accuracy: 0.9509 - val_loss: 0.1619 - val_accuracy: 0.9474\n",
            "Epoch 49/100\n",
            "27/27 [==============================] - ETA: 0s - loss: 0.1727 - accuracy: 0.9520\n",
            "Epoch 00049: val_loss improved from 0.16190 to 0.16142, saving model to /content/drive/My Drive/transfer learning/combined_Xception.model\n",
            "INFO:tensorflow:Assets written to: /content/drive/My Drive/transfer learning/combined_Xception.model/assets\n",
            "27/27 [==============================] - 19s 706ms/step - loss: 0.1727 - accuracy: 0.9520 - val_loss: 0.1614 - val_accuracy: 0.9474\n",
            "Epoch 50/100\n",
            "27/27 [==============================] - ETA: 0s - loss: 0.1667 - accuracy: 0.9520\n",
            "Epoch 00050: val_loss improved from 0.16142 to 0.16084, saving model to /content/drive/My Drive/transfer learning/combined_Xception.model\n",
            "INFO:tensorflow:Assets written to: /content/drive/My Drive/transfer learning/combined_Xception.model/assets\n",
            "27/27 [==============================] - 19s 697ms/step - loss: 0.1667 - accuracy: 0.9520 - val_loss: 0.1608 - val_accuracy: 0.9474\n",
            "Epoch 51/100\n",
            "27/27 [==============================] - ETA: 0s - loss: 0.1683 - accuracy: 0.9532\n",
            "Epoch 00051: val_loss improved from 0.16084 to 0.16055, saving model to /content/drive/My Drive/transfer learning/combined_Xception.model\n",
            "INFO:tensorflow:Assets written to: /content/drive/My Drive/transfer learning/combined_Xception.model/assets\n",
            "27/27 [==============================] - 19s 697ms/step - loss: 0.1683 - accuracy: 0.9532 - val_loss: 0.1606 - val_accuracy: 0.9474\n",
            "Epoch 52/100\n",
            "27/27 [==============================] - ETA: 0s - loss: 0.1664 - accuracy: 0.9556\n",
            "Epoch 00052: val_loss improved from 0.16055 to 0.15993, saving model to /content/drive/My Drive/transfer learning/combined_Xception.model\n",
            "INFO:tensorflow:Assets written to: /content/drive/My Drive/transfer learning/combined_Xception.model/assets\n",
            "27/27 [==============================] - 19s 695ms/step - loss: 0.1664 - accuracy: 0.9556 - val_loss: 0.1599 - val_accuracy: 0.9474\n",
            "Epoch 53/100\n",
            "27/27 [==============================] - ETA: 0s - loss: 0.1631 - accuracy: 0.9520\n",
            "Epoch 00053: val_loss improved from 0.15993 to 0.15942, saving model to /content/drive/My Drive/transfer learning/combined_Xception.model\n",
            "INFO:tensorflow:Assets written to: /content/drive/My Drive/transfer learning/combined_Xception.model/assets\n",
            "27/27 [==============================] - 19s 694ms/step - loss: 0.1631 - accuracy: 0.9520 - val_loss: 0.1594 - val_accuracy: 0.9474\n",
            "Epoch 54/100\n",
            "27/27 [==============================] - ETA: 0s - loss: 0.1617 - accuracy: 0.9532\n",
            "Epoch 00054: val_loss improved from 0.15942 to 0.15923, saving model to /content/drive/My Drive/transfer learning/combined_Xception.model\n",
            "INFO:tensorflow:Assets written to: /content/drive/My Drive/transfer learning/combined_Xception.model/assets\n",
            "27/27 [==============================] - 19s 694ms/step - loss: 0.1617 - accuracy: 0.9532 - val_loss: 0.1592 - val_accuracy: 0.9474\n",
            "Epoch 55/100\n",
            "27/27 [==============================] - ETA: 0s - loss: 0.1603 - accuracy: 0.9556\n",
            "Epoch 00055: val_loss improved from 0.15923 to 0.15857, saving model to /content/drive/My Drive/transfer learning/combined_Xception.model\n",
            "INFO:tensorflow:Assets written to: /content/drive/My Drive/transfer learning/combined_Xception.model/assets\n",
            "27/27 [==============================] - 19s 686ms/step - loss: 0.1603 - accuracy: 0.9556 - val_loss: 0.1586 - val_accuracy: 0.9474\n",
            "Epoch 56/100\n",
            "27/27 [==============================] - ETA: 0s - loss: 0.1591 - accuracy: 0.9544\n",
            "Epoch 00056: val_loss improved from 0.15857 to 0.15819, saving model to /content/drive/My Drive/transfer learning/combined_Xception.model\n",
            "INFO:tensorflow:Assets written to: /content/drive/My Drive/transfer learning/combined_Xception.model/assets\n",
            "27/27 [==============================] - 19s 697ms/step - loss: 0.1591 - accuracy: 0.9544 - val_loss: 0.1582 - val_accuracy: 0.9474\n",
            "Epoch 57/100\n",
            "27/27 [==============================] - ETA: 0s - loss: 0.1546 - accuracy: 0.9556\n",
            "Epoch 00057: val_loss improved from 0.15819 to 0.15760, saving model to /content/drive/My Drive/transfer learning/combined_Xception.model\n",
            "INFO:tensorflow:Assets written to: /content/drive/My Drive/transfer learning/combined_Xception.model/assets\n",
            "27/27 [==============================] - 19s 688ms/step - loss: 0.1546 - accuracy: 0.9556 - val_loss: 0.1576 - val_accuracy: 0.9474\n",
            "Epoch 58/100\n",
            "27/27 [==============================] - ETA: 0s - loss: 0.1584 - accuracy: 0.9567\n",
            "Epoch 00058: val_loss improved from 0.15760 to 0.15720, saving model to /content/drive/My Drive/transfer learning/combined_Xception.model\n",
            "INFO:tensorflow:Assets written to: /content/drive/My Drive/transfer learning/combined_Xception.model/assets\n",
            "27/27 [==============================] - 19s 690ms/step - loss: 0.1584 - accuracy: 0.9567 - val_loss: 0.1572 - val_accuracy: 0.9474\n",
            "Epoch 59/100\n",
            "27/27 [==============================] - ETA: 0s - loss: 0.1547 - accuracy: 0.9614\n",
            "Epoch 00059: val_loss improved from 0.15720 to 0.15669, saving model to /content/drive/My Drive/transfer learning/combined_Xception.model\n",
            "INFO:tensorflow:Assets written to: /content/drive/My Drive/transfer learning/combined_Xception.model/assets\n",
            "27/27 [==============================] - 18s 683ms/step - loss: 0.1547 - accuracy: 0.9614 - val_loss: 0.1567 - val_accuracy: 0.9474\n",
            "Epoch 60/100\n",
            "27/27 [==============================] - ETA: 0s - loss: 0.1597 - accuracy: 0.9579\n",
            "Epoch 00060: val_loss did not improve from 0.15669\n",
            "27/27 [==============================] - 5s 169ms/step - loss: 0.1597 - accuracy: 0.9579 - val_loss: 0.1568 - val_accuracy: 0.9474\n",
            "Epoch 61/100\n",
            "27/27 [==============================] - ETA: 0s - loss: 0.1532 - accuracy: 0.9614\n",
            "Epoch 00061: val_loss improved from 0.15669 to 0.15603, saving model to /content/drive/My Drive/transfer learning/combined_Xception.model\n",
            "INFO:tensorflow:Assets written to: /content/drive/My Drive/transfer learning/combined_Xception.model/assets\n",
            "27/27 [==============================] - 19s 689ms/step - loss: 0.1532 - accuracy: 0.9614 - val_loss: 0.1560 - val_accuracy: 0.9474\n",
            "Epoch 62/100\n",
            "27/27 [==============================] - ETA: 0s - loss: 0.1528 - accuracy: 0.9567\n",
            "Epoch 00062: val_loss improved from 0.15603 to 0.15593, saving model to /content/drive/My Drive/transfer learning/combined_Xception.model\n",
            "INFO:tensorflow:Assets written to: /content/drive/My Drive/transfer learning/combined_Xception.model/assets\n",
            "27/27 [==============================] - 19s 688ms/step - loss: 0.1528 - accuracy: 0.9567 - val_loss: 0.1559 - val_accuracy: 0.9474\n",
            "Epoch 63/100\n",
            "27/27 [==============================] - ETA: 0s - loss: 0.1486 - accuracy: 0.9579\n",
            "Epoch 00063: val_loss improved from 0.15593 to 0.15581, saving model to /content/drive/My Drive/transfer learning/combined_Xception.model\n",
            "INFO:tensorflow:Assets written to: /content/drive/My Drive/transfer learning/combined_Xception.model/assets\n",
            "27/27 [==============================] - 18s 683ms/step - loss: 0.1486 - accuracy: 0.9579 - val_loss: 0.1558 - val_accuracy: 0.9474\n",
            "Epoch 64/100\n",
            "27/27 [==============================] - ETA: 0s - loss: 0.1525 - accuracy: 0.9556\n",
            "Epoch 00064: val_loss improved from 0.15581 to 0.15508, saving model to /content/drive/My Drive/transfer learning/combined_Xception.model\n",
            "INFO:tensorflow:Assets written to: /content/drive/My Drive/transfer learning/combined_Xception.model/assets\n",
            "27/27 [==============================] - 19s 692ms/step - loss: 0.1525 - accuracy: 0.9556 - val_loss: 0.1551 - val_accuracy: 0.9474\n",
            "Epoch 65/100\n",
            "27/27 [==============================] - ETA: 0s - loss: 0.1500 - accuracy: 0.9509\n",
            "Epoch 00065: val_loss improved from 0.15508 to 0.15500, saving model to /content/drive/My Drive/transfer learning/combined_Xception.model\n",
            "INFO:tensorflow:Assets written to: /content/drive/My Drive/transfer learning/combined_Xception.model/assets\n",
            "27/27 [==============================] - 19s 688ms/step - loss: 0.1500 - accuracy: 0.9509 - val_loss: 0.1550 - val_accuracy: 0.9474\n",
            "Epoch 66/100\n",
            "27/27 [==============================] - ETA: 0s - loss: 0.1455 - accuracy: 0.9602\n",
            "Epoch 00066: val_loss improved from 0.15500 to 0.15481, saving model to /content/drive/My Drive/transfer learning/combined_Xception.model\n",
            "INFO:tensorflow:Assets written to: /content/drive/My Drive/transfer learning/combined_Xception.model/assets\n",
            "27/27 [==============================] - 19s 693ms/step - loss: 0.1455 - accuracy: 0.9602 - val_loss: 0.1548 - val_accuracy: 0.9474\n",
            "Epoch 67/100\n",
            "27/27 [==============================] - ETA: 0s - loss: 0.1501 - accuracy: 0.9556\n",
            "Epoch 00067: val_loss improved from 0.15481 to 0.15470, saving model to /content/drive/My Drive/transfer learning/combined_Xception.model\n",
            "INFO:tensorflow:Assets written to: /content/drive/My Drive/transfer learning/combined_Xception.model/assets\n",
            "27/27 [==============================] - 19s 687ms/step - loss: 0.1501 - accuracy: 0.9556 - val_loss: 0.1547 - val_accuracy: 0.9474\n",
            "Epoch 68/100\n",
            "27/27 [==============================] - ETA: 0s - loss: 0.1468 - accuracy: 0.9602\n",
            "Epoch 00068: val_loss improved from 0.15470 to 0.15457, saving model to /content/drive/My Drive/transfer learning/combined_Xception.model\n",
            "INFO:tensorflow:Assets written to: /content/drive/My Drive/transfer learning/combined_Xception.model/assets\n",
            "27/27 [==============================] - 18s 682ms/step - loss: 0.1468 - accuracy: 0.9602 - val_loss: 0.1546 - val_accuracy: 0.9474\n",
            "Epoch 69/100\n",
            "27/27 [==============================] - ETA: 0s - loss: 0.1504 - accuracy: 0.9567\n",
            "Epoch 00069: val_loss did not improve from 0.15457\n",
            "27/27 [==============================] - 5s 169ms/step - loss: 0.1504 - accuracy: 0.9567 - val_loss: 0.1547 - val_accuracy: 0.9474\n",
            "Epoch 70/100\n",
            "27/27 [==============================] - ETA: 0s - loss: 0.1488 - accuracy: 0.9626\n",
            "Epoch 00070: val_loss did not improve from 0.15457\n",
            "27/27 [==============================] - 5s 172ms/step - loss: 0.1488 - accuracy: 0.9626 - val_loss: 0.1547 - val_accuracy: 0.9474\n",
            "Epoch 71/100\n",
            "27/27 [==============================] - ETA: 0s - loss: 0.1462 - accuracy: 0.9591\n",
            "Epoch 00071: val_loss improved from 0.15457 to 0.15405, saving model to /content/drive/My Drive/transfer learning/combined_Xception.model\n",
            "INFO:tensorflow:Assets written to: /content/drive/My Drive/transfer learning/combined_Xception.model/assets\n",
            "27/27 [==============================] - 18s 682ms/step - loss: 0.1462 - accuracy: 0.9591 - val_loss: 0.1540 - val_accuracy: 0.9474\n",
            "Epoch 72/100\n",
            "27/27 [==============================] - ETA: 0s - loss: 0.1419 - accuracy: 0.9626\n",
            "Epoch 00072: val_loss improved from 0.15405 to 0.15389, saving model to /content/drive/My Drive/transfer learning/combined_Xception.model\n",
            "INFO:tensorflow:Assets written to: /content/drive/My Drive/transfer learning/combined_Xception.model/assets\n",
            "27/27 [==============================] - 18s 684ms/step - loss: 0.1419 - accuracy: 0.9626 - val_loss: 0.1539 - val_accuracy: 0.9474\n",
            "Epoch 73/100\n",
            "27/27 [==============================] - ETA: 0s - loss: 0.1443 - accuracy: 0.9614\n",
            "Epoch 00073: val_loss improved from 0.15389 to 0.15373, saving model to /content/drive/My Drive/transfer learning/combined_Xception.model\n",
            "INFO:tensorflow:Assets written to: /content/drive/My Drive/transfer learning/combined_Xception.model/assets\n",
            "27/27 [==============================] - 18s 681ms/step - loss: 0.1443 - accuracy: 0.9614 - val_loss: 0.1537 - val_accuracy: 0.9474\n",
            "Epoch 74/100\n",
            "27/27 [==============================] - ETA: 0s - loss: 0.1466 - accuracy: 0.9544\n",
            "Epoch 00074: val_loss improved from 0.15373 to 0.15353, saving model to /content/drive/My Drive/transfer learning/combined_Xception.model\n",
            "INFO:tensorflow:Assets written to: /content/drive/My Drive/transfer learning/combined_Xception.model/assets\n",
            "27/27 [==============================] - 18s 684ms/step - loss: 0.1466 - accuracy: 0.9544 - val_loss: 0.1535 - val_accuracy: 0.9474\n",
            "Epoch 75/100\n",
            "27/27 [==============================] - ETA: 0s - loss: 0.1452 - accuracy: 0.9602\n",
            "Epoch 00075: val_loss did not improve from 0.15353\n",
            "27/27 [==============================] - 5s 169ms/step - loss: 0.1452 - accuracy: 0.9602 - val_loss: 0.1536 - val_accuracy: 0.9474\n",
            "Epoch 76/100\n",
            "27/27 [==============================] - ETA: 0s - loss: 0.1357 - accuracy: 0.9661\n",
            "Epoch 00076: val_loss improved from 0.15353 to 0.15308, saving model to /content/drive/My Drive/transfer learning/combined_Xception.model\n",
            "INFO:tensorflow:Assets written to: /content/drive/My Drive/transfer learning/combined_Xception.model/assets\n",
            "27/27 [==============================] - 18s 678ms/step - loss: 0.1357 - accuracy: 0.9661 - val_loss: 0.1531 - val_accuracy: 0.9474\n",
            "Epoch 77/100\n",
            "27/27 [==============================] - ETA: 0s - loss: 0.1382 - accuracy: 0.9661\n",
            "Epoch 00077: val_loss did not improve from 0.15308\n",
            "27/27 [==============================] - 5s 171ms/step - loss: 0.1382 - accuracy: 0.9661 - val_loss: 0.1531 - val_accuracy: 0.9474\n",
            "Epoch 78/100\n",
            "27/27 [==============================] - ETA: 0s - loss: 0.1341 - accuracy: 0.9673\n",
            "Epoch 00078: val_loss improved from 0.15308 to 0.15286, saving model to /content/drive/My Drive/transfer learning/combined_Xception.model\n",
            "INFO:tensorflow:Assets written to: /content/drive/My Drive/transfer learning/combined_Xception.model/assets\n",
            "27/27 [==============================] - 18s 672ms/step - loss: 0.1341 - accuracy: 0.9673 - val_loss: 0.1529 - val_accuracy: 0.9474\n",
            "Epoch 79/100\n",
            "27/27 [==============================] - ETA: 0s - loss: 0.1378 - accuracy: 0.9637\n",
            "Epoch 00079: val_loss improved from 0.15286 to 0.15239, saving model to /content/drive/My Drive/transfer learning/combined_Xception.model\n",
            "INFO:tensorflow:Assets written to: /content/drive/My Drive/transfer learning/combined_Xception.model/assets\n",
            "27/27 [==============================] - 18s 681ms/step - loss: 0.1378 - accuracy: 0.9637 - val_loss: 0.1524 - val_accuracy: 0.9474\n",
            "Epoch 80/100\n",
            "27/27 [==============================] - ETA: 0s - loss: 0.1388 - accuracy: 0.9626\n",
            "Epoch 00080: val_loss improved from 0.15239 to 0.15199, saving model to /content/drive/My Drive/transfer learning/combined_Xception.model\n",
            "INFO:tensorflow:Assets written to: /content/drive/My Drive/transfer learning/combined_Xception.model/assets\n",
            "27/27 [==============================] - 18s 679ms/step - loss: 0.1388 - accuracy: 0.9626 - val_loss: 0.1520 - val_accuracy: 0.9474\n",
            "Epoch 81/100\n",
            "27/27 [==============================] - ETA: 0s - loss: 0.1361 - accuracy: 0.9602\n",
            "Epoch 00081: val_loss improved from 0.15199 to 0.15185, saving model to /content/drive/My Drive/transfer learning/combined_Xception.model\n",
            "INFO:tensorflow:Assets written to: /content/drive/My Drive/transfer learning/combined_Xception.model/assets\n",
            "27/27 [==============================] - 19s 689ms/step - loss: 0.1361 - accuracy: 0.9602 - val_loss: 0.1519 - val_accuracy: 0.9474\n",
            "Epoch 82/100\n",
            "27/27 [==============================] - ETA: 0s - loss: 0.1372 - accuracy: 0.9567\n",
            "Epoch 00082: val_loss improved from 0.15185 to 0.15180, saving model to /content/drive/My Drive/transfer learning/combined_Xception.model\n",
            "INFO:tensorflow:Assets written to: /content/drive/My Drive/transfer learning/combined_Xception.model/assets\n",
            "27/27 [==============================] - 18s 678ms/step - loss: 0.1372 - accuracy: 0.9567 - val_loss: 0.1518 - val_accuracy: 0.9474\n",
            "Epoch 83/100\n",
            "27/27 [==============================] - ETA: 0s - loss: 0.1374 - accuracy: 0.9649\n",
            "Epoch 00083: val_loss did not improve from 0.15180\n",
            "27/27 [==============================] - 5s 171ms/step - loss: 0.1374 - accuracy: 0.9649 - val_loss: 0.1519 - val_accuracy: 0.9474\n",
            "Epoch 84/100\n",
            "27/27 [==============================] - ETA: 0s - loss: 0.1359 - accuracy: 0.9579\n",
            "Epoch 00084: val_loss improved from 0.15180 to 0.15173, saving model to /content/drive/My Drive/transfer learning/combined_Xception.model\n",
            "INFO:tensorflow:Assets written to: /content/drive/My Drive/transfer learning/combined_Xception.model/assets\n",
            "27/27 [==============================] - 18s 682ms/step - loss: 0.1359 - accuracy: 0.9579 - val_loss: 0.1517 - val_accuracy: 0.9474\n",
            "Epoch 85/100\n",
            "27/27 [==============================] - ETA: 0s - loss: 0.1311 - accuracy: 0.9673\n",
            "Epoch 00085: val_loss improved from 0.15173 to 0.15138, saving model to /content/drive/My Drive/transfer learning/combined_Xception.model\n",
            "INFO:tensorflow:Assets written to: /content/drive/My Drive/transfer learning/combined_Xception.model/assets\n",
            "27/27 [==============================] - 18s 680ms/step - loss: 0.1311 - accuracy: 0.9673 - val_loss: 0.1514 - val_accuracy: 0.9474\n",
            "Epoch 86/100\n",
            "27/27 [==============================] - ETA: 0s - loss: 0.1359 - accuracy: 0.9602\n",
            "Epoch 00086: val_loss did not improve from 0.15138\n",
            "27/27 [==============================] - 5s 172ms/step - loss: 0.1359 - accuracy: 0.9602 - val_loss: 0.1518 - val_accuracy: 0.9474\n",
            "Epoch 87/100\n",
            "27/27 [==============================] - ETA: 0s - loss: 0.1329 - accuracy: 0.9614\n",
            "Epoch 00087: val_loss did not improve from 0.15138\n",
            "27/27 [==============================] - 5s 173ms/step - loss: 0.1329 - accuracy: 0.9614 - val_loss: 0.1518 - val_accuracy: 0.9474\n",
            "Epoch 88/100\n",
            "27/27 [==============================] - ETA: 0s - loss: 0.1318 - accuracy: 0.9614\n",
            "Epoch 00088: val_loss did not improve from 0.15138\n",
            "27/27 [==============================] - 5s 176ms/step - loss: 0.1318 - accuracy: 0.9614 - val_loss: 0.1515 - val_accuracy: 0.9474\n",
            "Epoch 89/100\n",
            "27/27 [==============================] - ETA: 0s - loss: 0.1331 - accuracy: 0.9661\n",
            "Epoch 00089: val_loss did not improve from 0.15138\n",
            "27/27 [==============================] - 5s 178ms/step - loss: 0.1331 - accuracy: 0.9661 - val_loss: 0.1514 - val_accuracy: 0.9474\n",
            "Epoch 90/100\n",
            "27/27 [==============================] - ETA: 0s - loss: 0.1269 - accuracy: 0.9637\n",
            "Epoch 00090: val_loss improved from 0.15138 to 0.15103, saving model to /content/drive/My Drive/transfer learning/combined_Xception.model\n",
            "INFO:tensorflow:Assets written to: /content/drive/My Drive/transfer learning/combined_Xception.model/assets\n",
            "27/27 [==============================] - 18s 678ms/step - loss: 0.1269 - accuracy: 0.9637 - val_loss: 0.1510 - val_accuracy: 0.9474\n",
            "Epoch 91/100\n",
            "27/27 [==============================] - ETA: 0s - loss: 0.1236 - accuracy: 0.9684\n",
            "Epoch 00091: val_loss did not improve from 0.15103\n",
            "27/27 [==============================] - 5s 176ms/step - loss: 0.1236 - accuracy: 0.9684 - val_loss: 0.1511 - val_accuracy: 0.9474\n",
            "Epoch 92/100\n",
            "27/27 [==============================] - ETA: 0s - loss: 0.1271 - accuracy: 0.9673\n",
            "Epoch 00092: val_loss improved from 0.15103 to 0.15098, saving model to /content/drive/My Drive/transfer learning/combined_Xception.model\n",
            "INFO:tensorflow:Assets written to: /content/drive/My Drive/transfer learning/combined_Xception.model/assets\n",
            "27/27 [==============================] - 18s 682ms/step - loss: 0.1271 - accuracy: 0.9673 - val_loss: 0.1510 - val_accuracy: 0.9474\n",
            "Epoch 93/100\n",
            "27/27 [==============================] - ETA: 0s - loss: 0.1253 - accuracy: 0.9661\n",
            "Epoch 00093: val_loss improved from 0.15098 to 0.15089, saving model to /content/drive/My Drive/transfer learning/combined_Xception.model\n",
            "INFO:tensorflow:Assets written to: /content/drive/My Drive/transfer learning/combined_Xception.model/assets\n",
            "27/27 [==============================] - 18s 681ms/step - loss: 0.1253 - accuracy: 0.9661 - val_loss: 0.1509 - val_accuracy: 0.9474\n",
            "Epoch 94/100\n",
            "27/27 [==============================] - ETA: 0s - loss: 0.1218 - accuracy: 0.9649\n",
            "Epoch 00094: val_loss improved from 0.15089 to 0.15065, saving model to /content/drive/My Drive/transfer learning/combined_Xception.model\n",
            "INFO:tensorflow:Assets written to: /content/drive/My Drive/transfer learning/combined_Xception.model/assets\n",
            "27/27 [==============================] - 19s 689ms/step - loss: 0.1218 - accuracy: 0.9649 - val_loss: 0.1507 - val_accuracy: 0.9474\n",
            "Epoch 95/100\n",
            "27/27 [==============================] - ETA: 0s - loss: 0.1239 - accuracy: 0.9661\n",
            "Epoch 00095: val_loss improved from 0.15065 to 0.15059, saving model to /content/drive/My Drive/transfer learning/combined_Xception.model\n",
            "INFO:tensorflow:Assets written to: /content/drive/My Drive/transfer learning/combined_Xception.model/assets\n",
            "27/27 [==============================] - 18s 682ms/step - loss: 0.1239 - accuracy: 0.9661 - val_loss: 0.1506 - val_accuracy: 0.9474\n",
            "Epoch 96/100\n",
            "27/27 [==============================] - ETA: 0s - loss: 0.1244 - accuracy: 0.9614\n",
            "Epoch 00096: val_loss improved from 0.15059 to 0.15052, saving model to /content/drive/My Drive/transfer learning/combined_Xception.model\n",
            "INFO:tensorflow:Assets written to: /content/drive/My Drive/transfer learning/combined_Xception.model/assets\n",
            "27/27 [==============================] - 18s 682ms/step - loss: 0.1244 - accuracy: 0.9614 - val_loss: 0.1505 - val_accuracy: 0.9474\n",
            "Epoch 97/100\n",
            "27/27 [==============================] - ETA: 0s - loss: 0.1229 - accuracy: 0.9626\n",
            "Epoch 00097: val_loss did not improve from 0.15052\n",
            "27/27 [==============================] - 5s 173ms/step - loss: 0.1229 - accuracy: 0.9626 - val_loss: 0.1505 - val_accuracy: 0.9474\n",
            "Epoch 98/100\n",
            "27/27 [==============================] - ETA: 0s - loss: 0.1318 - accuracy: 0.9637\n",
            "Epoch 00098: val_loss did not improve from 0.15052\n",
            "27/27 [==============================] - 5s 177ms/step - loss: 0.1318 - accuracy: 0.9637 - val_loss: 0.1511 - val_accuracy: 0.9474\n",
            "Epoch 99/100\n",
            "27/27 [==============================] - ETA: 0s - loss: 0.1212 - accuracy: 0.9626\n",
            "Epoch 00099: val_loss did not improve from 0.15052\n",
            "27/27 [==============================] - 5s 179ms/step - loss: 0.1212 - accuracy: 0.9626 - val_loss: 0.1507 - val_accuracy: 0.9474\n",
            "Epoch 100/100\n",
            "27/27 [==============================] - ETA: 0s - loss: 0.1249 - accuracy: 0.9649\n",
            "Epoch 00100: val_loss did not improve from 0.15052\n",
            "27/27 [==============================] - 5s 182ms/step - loss: 0.1249 - accuracy: 0.9649 - val_loss: 0.1505 - val_accuracy: 0.9474\n"
          ],
          "name": "stdout"
        }
      ]
    },
    {
      "cell_type": "markdown",
      "metadata": {
        "id": "ZjlrdYXhP9-s"
      },
      "source": [
        "train time accuracy= 96.49%\n",
        "validation time accuracy= 94.74%"
      ]
    },
    {
      "cell_type": "markdown",
      "metadata": {
        "id": "SjnQHRbjQJ-B"
      },
      "source": [
        "use model to predict results for test dataset"
      ]
    },
    {
      "cell_type": "code",
      "metadata": {
        "id": "0WQrC2aTpHEj"
      },
      "source": [
        "test= pd.read_csv('/content/drive/My Drive/transfer learning/test.csv')"
      ],
      "execution_count": null,
      "outputs": []
    },
    {
      "cell_type": "code",
      "metadata": {
        "id": "p-2gC88d40Vq",
        "outputId": "bbb0d024-2c74-4ad5-a013-0bf04e0106d4",
        "colab": {
          "base_uri": "https://localhost:8080/",
          "height": 195
        }
      },
      "source": [
        "test.head()"
      ],
      "execution_count": null,
      "outputs": [
        {
          "output_type": "execute_result",
          "data": {
            "text/html": [
              "<div>\n",
              "<style scoped>\n",
              "    .dataframe tbody tr th:only-of-type {\n",
              "        vertical-align: middle;\n",
              "    }\n",
              "\n",
              "    .dataframe tbody tr th {\n",
              "        vertical-align: top;\n",
              "    }\n",
              "\n",
              "    .dataframe thead th {\n",
              "        text-align: right;\n",
              "    }\n",
              "</style>\n",
              "<table border=\"1\" class=\"dataframe\">\n",
              "  <thead>\n",
              "    <tr style=\"text-align: right;\">\n",
              "      <th></th>\n",
              "      <th>image_names</th>\n",
              "    </tr>\n",
              "  </thead>\n",
              "  <tbody>\n",
              "    <tr>\n",
              "      <th>0</th>\n",
              "      <td>1960.jpg</td>\n",
              "    </tr>\n",
              "    <tr>\n",
              "      <th>1</th>\n",
              "      <td>668.jpg</td>\n",
              "    </tr>\n",
              "    <tr>\n",
              "      <th>2</th>\n",
              "      <td>2082.jpg</td>\n",
              "    </tr>\n",
              "    <tr>\n",
              "      <th>3</th>\n",
              "      <td>808.jpg</td>\n",
              "    </tr>\n",
              "    <tr>\n",
              "      <th>4</th>\n",
              "      <td>1907.jpg</td>\n",
              "    </tr>\n",
              "  </tbody>\n",
              "</table>\n",
              "</div>"
            ],
            "text/plain": [
              "  image_names\n",
              "0    1960.jpg\n",
              "1     668.jpg\n",
              "2    2082.jpg\n",
              "3     808.jpg\n",
              "4    1907.jpg"
            ]
          },
          "metadata": {
            "tags": []
          },
          "execution_count": 43
        }
      ]
    },
    {
      "cell_type": "code",
      "metadata": {
        "id": "YKh9THNX2ZEr",
        "outputId": "b3c32b9a-0a26-473d-8407-de564a39c8c4",
        "colab": {
          "base_uri": "https://localhost:8080/"
        }
      },
      "source": [
        "test_img=[]\n",
        "for i_name in tqdm(test['image_names']):\n",
        "  path= '/content/drive/My Drive/transfer learning/images/'+ i_name\n",
        "  img= imread(path)\n",
        "  img= img/255\n",
        "  img= resize(img, output_shape=(224,224,3), mode='constant', anti_aliasing= True )\n",
        "  img= img.astype('float32')\n",
        "  test_img.append(img)"
      ],
      "execution_count": null,
      "outputs": [
        {
          "output_type": "stream",
          "text": [
            "100%|██████████| 706/706 [04:48<00:00,  2.44it/s]\n"
          ],
          "name": "stderr"
        }
      ]
    },
    {
      "cell_type": "code",
      "metadata": {
        "id": "_rUpjGIF2m0I"
      },
      "source": [
        "test_x= np.array(test_img)"
      ],
      "execution_count": null,
      "outputs": []
    },
    {
      "cell_type": "code",
      "metadata": {
        "id": "cbKw97HV29SL",
        "outputId": "2da3c143-4a26-4eb1-cc2b-64fbf61142ed",
        "colab": {
          "base_uri": "https://localhost:8080/",
          "height": 34
        }
      },
      "source": [
        "test_x.shape"
      ],
      "execution_count": null,
      "outputs": [
        {
          "output_type": "execute_result",
          "data": {
            "text/plain": [
              "(706, 224, 224, 3)"
            ]
          },
          "metadata": {
            "tags": []
          },
          "execution_count": 49
        }
      ]
    },
    {
      "cell_type": "code",
      "metadata": {
        "id": "H5VH9oQi3CND"
      },
      "source": [
        "pred= new_model.predict(test_x)"
      ],
      "execution_count": null,
      "outputs": []
    },
    {
      "cell_type": "code",
      "metadata": {
        "id": "LbnB11EH6DQq"
      },
      "source": [
        "pred= np.where(pred>0.7, 1, 0)"
      ],
      "execution_count": 52,
      "outputs": []
    },
    {
      "cell_type": "code",
      "metadata": {
        "id": "F-O2qekM73Kk",
        "outputId": "9c7114d1-c027-4039-d877-d1f730109b19",
        "colab": {
          "base_uri": "https://localhost:8080/",
          "height": 34
        }
      },
      "source": [
        "sum(pred)"
      ],
      "execution_count": 53,
      "outputs": [
        {
          "output_type": "execute_result",
          "data": {
            "text/plain": [
              "array([283])"
            ]
          },
          "metadata": {
            "tags": []
          },
          "execution_count": 53
        }
      ]
    },
    {
      "cell_type": "code",
      "metadata": {
        "id": "N0yq9TmZ8Ix2"
      },
      "source": [
        "sub= pd.read_csv(\"/content/drive/My Drive/transfer learning/submission.csv\")"
      ],
      "execution_count": 54,
      "outputs": []
    },
    {
      "cell_type": "code",
      "metadata": {
        "id": "T2xO0gyG8-jy",
        "outputId": "c3e59d34-0fb6-4d5c-a00f-d947482bddf3",
        "colab": {
          "base_uri": "https://localhost:8080/"
        }
      },
      "source": [
        "sub.head()"
      ],
      "execution_count": 55,
      "outputs": [
        {
          "output_type": "execute_result",
          "data": {
            "text/html": [
              "<div>\n",
              "<style scoped>\n",
              "    .dataframe tbody tr th:only-of-type {\n",
              "        vertical-align: middle;\n",
              "    }\n",
              "\n",
              "    .dataframe tbody tr th {\n",
              "        vertical-align: top;\n",
              "    }\n",
              "\n",
              "    .dataframe thead th {\n",
              "        text-align: right;\n",
              "    }\n",
              "</style>\n",
              "<table border=\"1\" class=\"dataframe\">\n",
              "  <thead>\n",
              "    <tr style=\"text-align: right;\">\n",
              "      <th></th>\n",
              "      <th>image_names</th>\n",
              "      <th>emergency_or_not</th>\n",
              "    </tr>\n",
              "  </thead>\n",
              "  <tbody>\n",
              "    <tr>\n",
              "      <th>0</th>\n",
              "      <td>1960.jpg</td>\n",
              "      <td>0</td>\n",
              "    </tr>\n",
              "    <tr>\n",
              "      <th>1</th>\n",
              "      <td>668.jpg</td>\n",
              "      <td>0</td>\n",
              "    </tr>\n",
              "    <tr>\n",
              "      <th>2</th>\n",
              "      <td>2082.jpg</td>\n",
              "      <td>0</td>\n",
              "    </tr>\n",
              "    <tr>\n",
              "      <th>3</th>\n",
              "      <td>808.jpg</td>\n",
              "      <td>0</td>\n",
              "    </tr>\n",
              "    <tr>\n",
              "      <th>4</th>\n",
              "      <td>1907.jpg</td>\n",
              "      <td>0</td>\n",
              "    </tr>\n",
              "  </tbody>\n",
              "</table>\n",
              "</div>"
            ],
            "text/plain": [
              "  image_names  emergency_or_not\n",
              "0    1960.jpg                 0\n",
              "1     668.jpg                 0\n",
              "2    2082.jpg                 0\n",
              "3     808.jpg                 0\n",
              "4    1907.jpg                 0"
            ]
          },
          "metadata": {
            "tags": []
          },
          "execution_count": 55
        }
      ]
    },
    {
      "cell_type": "code",
      "metadata": {
        "id": "JWhQHOgr9Bpw"
      },
      "source": [
        "sub['emergency_or_not']= pred"
      ],
      "execution_count": 56,
      "outputs": []
    },
    {
      "cell_type": "code",
      "metadata": {
        "id": "002kLbk09Fd4",
        "outputId": "6a576c9c-acae-4803-e96a-a2a3d78a295b",
        "colab": {
          "base_uri": "https://localhost:8080/",
          "height": 195
        }
      },
      "source": [
        "sub.head()"
      ],
      "execution_count": 57,
      "outputs": [
        {
          "output_type": "execute_result",
          "data": {
            "text/html": [
              "<div>\n",
              "<style scoped>\n",
              "    .dataframe tbody tr th:only-of-type {\n",
              "        vertical-align: middle;\n",
              "    }\n",
              "\n",
              "    .dataframe tbody tr th {\n",
              "        vertical-align: top;\n",
              "    }\n",
              "\n",
              "    .dataframe thead th {\n",
              "        text-align: right;\n",
              "    }\n",
              "</style>\n",
              "<table border=\"1\" class=\"dataframe\">\n",
              "  <thead>\n",
              "    <tr style=\"text-align: right;\">\n",
              "      <th></th>\n",
              "      <th>image_names</th>\n",
              "      <th>emergency_or_not</th>\n",
              "    </tr>\n",
              "  </thead>\n",
              "  <tbody>\n",
              "    <tr>\n",
              "      <th>0</th>\n",
              "      <td>1960.jpg</td>\n",
              "      <td>0</td>\n",
              "    </tr>\n",
              "    <tr>\n",
              "      <th>1</th>\n",
              "      <td>668.jpg</td>\n",
              "      <td>1</td>\n",
              "    </tr>\n",
              "    <tr>\n",
              "      <th>2</th>\n",
              "      <td>2082.jpg</td>\n",
              "      <td>0</td>\n",
              "    </tr>\n",
              "    <tr>\n",
              "      <th>3</th>\n",
              "      <td>808.jpg</td>\n",
              "      <td>1</td>\n",
              "    </tr>\n",
              "    <tr>\n",
              "      <th>4</th>\n",
              "      <td>1907.jpg</td>\n",
              "      <td>0</td>\n",
              "    </tr>\n",
              "  </tbody>\n",
              "</table>\n",
              "</div>"
            ],
            "text/plain": [
              "  image_names  emergency_or_not\n",
              "0    1960.jpg                 0\n",
              "1     668.jpg                 1\n",
              "2    2082.jpg                 0\n",
              "3     808.jpg                 1\n",
              "4    1907.jpg                 0"
            ]
          },
          "metadata": {
            "tags": []
          },
          "execution_count": 57
        }
      ]
    },
    {
      "cell_type": "code",
      "metadata": {
        "id": "Qy7VMQb99Hw8"
      },
      "source": [
        "sub.to_csv('/content/drive/My Drive/transfer learning/submit.csv')"
      ],
      "execution_count": 60,
      "outputs": []
    },
    {
      "cell_type": "code",
      "metadata": {
        "id": "EEuEyG4Q9Nu_"
      },
      "source": [
        ""
      ],
      "execution_count": null,
      "outputs": []
    }
  ]
}